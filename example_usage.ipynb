{
 "cells": [
  {
   "cell_type": "markdown",
   "metadata": {},
   "source": [
    "# With Graph RAG\n"
   ]
  },
  {
   "cell_type": "code",
   "execution_count": 1,
   "metadata": {},
   "outputs": [
    {
     "name": "stderr",
     "output_type": "stream",
     "text": [
      "Received notification from DBMS server: {severity: WARNING} {code: Neo.ClientNotification.Statement.FeatureDeprecationWarning} {category: DEPRECATION} {title: This feature is deprecated and will be removed in future versions.} {description: The procedure has a deprecated field. ('config' used by 'apoc.meta.graphSample' is deprecated.)} {position: line: 1, column: 1, offset: 0} for query: \"CALL apoc.meta.graphSample() YIELD nodes, relationships RETURN nodes, [rel in relationships | {name:apoc.any.property(rel, 'type'), count: apoc.any.property(rel, 'count')}] AS relationships\"\n",
      "preparing train data...: 100%|██████████| 1000/1000 [00:01<00:00, 726.11it/s]\n",
      "preparing test data...: 100%|██████████| 1000/1000 [00:00<00:00, 27627.37it/s]\n",
      "adding person nodes...: 100%|██████████| 997/997 [00:01<00:00, 959.88it/s] \n",
      "adding desire nodes...: 100%|██████████| 997/997 [00:01<00:00, 902.09it/s]\n",
      "adding itention nodes...: 100%|██████████| 1000/1000 [00:01<00:00, 900.39it/s]\n",
      "adding wan_to edges...: 100%|██████████| 997/997 [00:01<00:00, 644.06it/s]\n",
      "adding go_to edges...: 100%|██████████| 1000/1000 [00:01<00:00, 724.35it/s]\n"
     ]
    },
    {
     "name": "stdout",
     "output_type": "stream",
     "text": [
      "creating neo4j index...\n"
     ]
    },
    {
     "name": "stderr",
     "output_type": "stream",
     "text": [
      "Received notification from DBMS server: {severity: WARNING} {code: Neo.ClientNotification.Statement.FeatureDeprecationWarning} {category: DEPRECATION} {title: This feature is deprecated and will be removed in future versions.} {description: The query used a deprecated procedure. ('db.create.setVectorProperty' has been replaced by 'db.create.setNodeVectorProperty')} {position: line: 1, column: 68, offset: 67} for query: \"UNWIND $data AS row MATCH (n:`Person`) WHERE elementId(n) = row.id CALL db.create.setVectorProperty(n, 'embedding', row.embedding) YIELD node RETURN count(*)\"\n"
     ]
    },
    {
     "name": "stdout",
     "output_type": "stream",
     "text": [
      "done!\n"
     ]
    },
    {
     "name": "stderr",
     "output_type": "stream",
     "text": [
      "Received notification from DBMS server: {severity: WARNING} {code: Neo.ClientNotification.Statement.FeatureDeprecationWarning} {category: DEPRECATION} {title: This feature is deprecated and will be removed in future versions.} {description: The query used a deprecated procedure. ('db.create.setVectorProperty' has been replaced by 'db.create.setNodeVectorProperty')} {position: line: 1, column: 80, offset: 79} for query: \"UNWIND $data AS row CALL { WITH row MERGE (c:`Chunk` {id: row.id}) WITH c, row CALL db.create.setVectorProperty(c, 'embedding', row.embedding) YIELD node SET c.`text` = row.text SET c += row.metadata } IN TRANSACTIONS OF 1000 ROWS\"\n"
     ]
    }
   ],
   "source": [
    "from model import ChoiceModel\n",
    "\n",
    "# desire can be one of 'Eat,Shop,Recreation'\n",
    "desire = 'Eat'\n",
    "\n",
    "# You can input any profile of a person, but there will be a failure chance that the model can't generate the proper cypher query, try to use the following categories will be better.\n",
    "\n",
    "# 'income' 'Debt','Low','Moderate','High','Very High','Ultra High'\n",
    "# 'age' :  'Teen' ,'Young Adult', 'Adult', 'Middle Age', 'Senior', 'Elderly'\n",
    "\n",
    "profile = 'a young adult with high income'\n",
    "\n",
    "# Initialize the model, for the first time, you need to set skip_init to 'False'. it will take a while to prepare the data.\n",
    "# sample_num is the total number of samples to build the dataset.\n",
    "\n",
    "choice_model = ChoiceModel(\n",
    "    data_dir='data', desire=desire, sample_num=1000, skip_init=False)\n",
    "\n",
    "amenity_final_choice, mode_final_choice = choice_model.infer(\n",
    "    profile=profile,\n",
    "    city='Boston',\n",
    "    mode='infer')"
   ]
  },
  {
   "cell_type": "code",
   "execution_count": 2,
   "metadata": {},
   "outputs": [
    {
     "data": {
      "text/plain": [
       "('F&B Eatery/Full-Service Restaurants', 'Car')"
      ]
     },
     "execution_count": 2,
     "metadata": {},
     "output_type": "execute_result"
    }
   ],
   "source": [
    "amenity_final_choice, mode_final_choice"
   ]
  },
  {
   "cell_type": "markdown",
   "metadata": {},
   "source": [
    "# Without GraphRAG\n"
   ]
  },
  {
   "cell_type": "code",
   "execution_count": 5,
   "metadata": {},
   "outputs": [],
   "source": [
    "from model import ChoiceModel\n",
    "\n",
    "# desire can be one of 'Eat,Shop,Recreation'\n",
    "desire = 'Eat'\n",
    "profile = 'a young adult with high income'\n",
    "\n",
    "choice_model = ChoiceModel(\n",
    "    data_dir='data', desire=desire, sample_num=0, skip_init=True)\n",
    "\n",
    "amenity_final_choice, mode_final_choice = choice_model.infer_without_context(\n",
    "    profile=profile,\n",
    "    city='Boston',\n",
    "    mode='infer'\n",
    ")"
   ]
  },
  {
   "cell_type": "code",
   "execution_count": 6,
   "metadata": {},
   "outputs": [
    {
     "data": {
      "text/plain": [
       "('F&B Eatery/Drinking Places', 'Car')"
      ]
     },
     "execution_count": 6,
     "metadata": {},
     "output_type": "execute_result"
    }
   ],
   "source": [
    "amenity_final_choice, mode_final_choice"
   ]
  }
 ],
 "metadata": {
  "kernelspec": {
   "display_name": "pytorch",
   "language": "python",
   "name": "python3"
  },
  "language_info": {
   "codemirror_mode": {
    "name": "ipython",
    "version": 3
   },
   "file_extension": ".py",
   "mimetype": "text/x-python",
   "name": "python",
   "nbconvert_exporter": "python",
   "pygments_lexer": "ipython3",
   "version": "3.8.19"
  }
 },
 "nbformat": 4,
 "nbformat_minor": 2
}
