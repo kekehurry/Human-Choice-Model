{
 "cells": [
  {
   "cell_type": "markdown",
   "metadata": {},
   "source": [
    "# Convert data to neo4j graph"
   ]
  },
  {
   "cell_type": "code",
   "execution_count": 1,
   "metadata": {},
   "outputs": [
    {
     "name": "stderr",
     "output_type": "stream",
     "text": [
      "preparing train data...: 100%|██████████| 1000/1000 [00:02<00:00, 441.97it/s]\n",
      "adding person nodes...: 100%|██████████| 997/997 [00:01<00:00, 799.08it/s]\n",
      "adding desire nodes...: 100%|██████████| 999/999 [00:01<00:00, 971.85it/s]\n",
      "adding itention nodes...: 100%|██████████| 1000/1000 [00:01<00:00, 878.64it/s]\n",
      "adding wan_to edges...: 100%|██████████| 999/999 [00:01<00:00, 617.48it/s]\n",
      "adding go_to edges...: 100%|██████████| 1000/1000 [00:01<00:00, 577.82it/s]\n"
     ]
    },
    {
     "name": "stdout",
     "output_type": "stream",
     "text": [
      "creating neo4j index...\n",
      "done!\n"
     ]
    }
   ],
   "source": [
    "import sys\n",
    "import os\n",
    "\n",
    "sys.path.append('..')\n",
    "\n",
    "from model import ChoiceModel\n",
    "\n",
    "# Initialize the model, for the first time, you need to set skip_init to 'False'. it will take a while to prepare the data.\n",
    "# sample_num is the total number of samples to build the dataset.\n",
    "\n",
    "choice_model = ChoiceModel(\n",
    "    data_dir='../data', desire='Eat', sample_num=1000, skip_init=True, skip_test=True)\n",
    "\n",
    "train_data_path = choice_model._prepare_train_data(\n",
    "                sample_num=1000, desire=None)\n",
    "choice_model._prepare_neo4j(train_data_path)"
   ]
  },
  {
   "cell_type": "markdown",
   "metadata": {},
   "source": [
    "# Add similar_to link"
   ]
  },
  {
   "cell_type": "code",
   "execution_count": 2,
   "metadata": {},
   "outputs": [],
   "source": [
    "from langchain_community.graphs import Neo4jGraph\n",
    "\n",
    "url = \"bolt://localhost:7687\"\n",
    "username = \"neo4j\"\n",
    "password = \"neo4jgraph\"\n",
    "\n",
    "graph = Neo4jGraph(\n",
    "    url=url,\n",
    "    username=username,\n",
    "    password=password,\n",
    "    enhanced_schema=True,\n",
    ")"
   ]
  },
  {
   "cell_type": "markdown",
   "metadata": {},
   "source": [
    "### Clear existing similar_to link"
   ]
  },
  {
   "cell_type": "code",
   "execution_count": 3,
   "metadata": {},
   "outputs": [
    {
     "data": {
      "text/plain": [
       "[]"
      ]
     },
     "execution_count": 3,
     "metadata": {},
     "output_type": "execute_result"
    }
   ],
   "source": [
    "cypher = '''\n",
    "MATCH ()-[r:SIMILAR_TO]->()\n",
    "DELETE r\n",
    "'''\n",
    "graph.query(cypher)"
   ]
  },
  {
   "cell_type": "markdown",
   "metadata": {},
   "source": [
    "### Create similar_to link"
   ]
  },
  {
   "cell_type": "code",
   "execution_count": 4,
   "metadata": {},
   "outputs": [
    {
     "data": {
      "text/plain": [
       "[{'processedNodes': 997}]"
      ]
     },
     "execution_count": 4,
     "metadata": {},
     "output_type": "execute_result"
    }
   ],
   "source": [
    "cypher = '''\n",
    "MATCH (p:Person)\n",
    "CALL {\n",
    "  WITH p\n",
    "  MATCH (similar:Person)\n",
    "  WHERE p.id <> similar.id\n",
    "  WITH p, similar, gds.similarity.cosine(p.embedding, similar.embedding) AS similarityScore\n",
    "  ORDER BY similarityScore DESC\n",
    "  LIMIT 5\n",
    "  MERGE (p)-[r:SIMILAR_TO]->(similar)\n",
    "  SET r.score = similarityScore, r.type = 'SIMILAR_TO'\n",
    "  RETURN count(*) as count\n",
    "}\n",
    "RETURN count(p) as processedNodes\n",
    "'''\n",
    "graph.query(cypher)"
   ]
  },
  {
   "cell_type": "code",
   "execution_count": null,
   "metadata": {},
   "outputs": [],
   "source": []
  }
 ],
 "metadata": {
  "kernelspec": {
   "display_name": "pytorch",
   "language": "python",
   "name": "python3"
  },
  "language_info": {
   "codemirror_mode": {
    "name": "ipython",
    "version": 3
   },
   "file_extension": ".py",
   "mimetype": "text/x-python",
   "name": "python",
   "nbconvert_exporter": "python",
   "pygments_lexer": "ipython3",
   "version": "3.8.18"
  }
 },
 "nbformat": 4,
 "nbformat_minor": 2
}
