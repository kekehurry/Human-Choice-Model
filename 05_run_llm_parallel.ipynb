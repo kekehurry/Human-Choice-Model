{
 "cells": [
  {
   "cell_type": "code",
   "execution_count": 1,
   "id": "dc256c3b-8120-4dd6-b280-f2d91c0c82b7",
   "metadata": {},
   "outputs": [],
   "source": [
    "from model import ChoiceModel\n",
    "from concurrent.futures import ThreadPoolExecutor, as_completed\n",
    "from tqdm import tqdm\n",
    "import pandas as pd\n",
    "from tqdm import tqdm\n",
    "import numpy as np\n",
    "import random  \n",
    "\n",
    "np.random.seed(42)\n",
    "random.seed(42)"
   ]
  },
  {
   "cell_type": "code",
   "execution_count": 2,
   "id": "fd0a120b-2677-45ec-b943-e3000e6b3ddf",
   "metadata": {},
   "outputs": [],
   "source": [
    "def process_row(choice_model, row):\n",
    "    profile = row[['person_id', 'age', 'individual_income',\n",
    "                    'household_size', 'family_structure', 'vehicles', 'cypher']]\n",
    "    profile = profile.to_dict()\n",
    "    # additional_condition='The weather is sunny now'\n",
    "    # additional_condition='The weather is rainy now'\n",
    "    additional_condition=None\n",
    "    response = choice_model.infer_without_context(\n",
    "        profile=profile, mode='experiment',in_parallel=True,additional_condition=additional_condition)\n",
    "    return response\n",
    "\n",
    "def run_experiments(desire,num_sample,num_threads = 5,data_path=None):\n",
    "    print(\"get test data\")\n",
    "    test_data_path = f'data/test/{desire}.csv'\n",
    "    test_df = pd.read_csv(test_data_path, index_col=False)\n",
    "    print(f\"start experiemtns (desire={desire},sample_num={num_sample})\")\n",
    "    choice_model = ChoiceModel(\n",
    "    data_dir='data', desire=desire, sample_num=num_sample, skip_init=True)\n",
    "    data = []\n",
    "    with ThreadPoolExecutor(max_workers=num_threads) as executor:\n",
    "        futures = [executor.submit(process_row, choice_model, row) for idx, row in test_df.iterrows()]\n",
    "        for future in tqdm(as_completed(futures), total=len(futures)):\n",
    "            try:\n",
    "                response = future.result()\n",
    "                if response is not None:\n",
    "                    data.append(response)\n",
    "            except Exception as e:\n",
    "                print(f\"Error get response: {e}\")\n",
    "\n",
    "    data_df = pd.DataFrame(data, columns=['person_id', 'profile', 'top_k', 'desire', 'city', 'cypher',\n",
    "                                      'amenity_recommendation', 'amenity_llm_choice', 'amenity_final_choice',\n",
    "                                      'mode_recommendation', 'mode_llm_choice', 'mode_final_choice'])\n",
    "    if data_path is None:\n",
    "        data_path = choice_model.log_data_path\n",
    "    data_df.to_csv(data_path)\n",
    "    print(f'data saved to {data_path}')\n",
    "    print(\"==\"*20)"
   ]
  },
  {
   "cell_type": "code",
   "execution_count": 3,
   "id": "f519113e-d9b4-41fd-be76-6657a151953d",
   "metadata": {},
   "outputs": [
    {
     "name": "stdout",
     "output_type": "stream",
     "text": [
      "get test data\n",
      "start experiemtns (desire=Shop,sample_num=0)\n"
     ]
    },
    {
     "name": "stderr",
     "output_type": "stream",
     "text": [
      "100%|██████████| 1000/1000 [17:08<00:00,  1.03s/it]"
     ]
    },
    {
     "name": "stdout",
     "output_type": "stream",
     "text": [
      "data saved to data/logs/0/Shop.csv\n",
      "========================================\n"
     ]
    },
    {
     "name": "stderr",
     "output_type": "stream",
     "text": [
      "\n"
     ]
    }
   ],
   "source": [
    "run_experiments(desire='Shop',num_sample=0,num_threads = 6)"
   ]
  },
  {
   "cell_type": "code",
   "execution_count": null,
   "id": "11d0bcc4-53d1-45b0-a561-c934e3fcfb8c",
   "metadata": {},
   "outputs": [],
   "source": []
  },
  {
   "cell_type": "code",
   "execution_count": null,
   "id": "da8663d0-0d18-46fc-a709-f0ea8fd3a599",
   "metadata": {},
   "outputs": [],
   "source": []
  }
 ],
 "metadata": {
  "kernelspec": {
   "display_name": "cs_choice",
   "language": "python",
   "name": "cs_choice"
  },
  "language_info": {
   "codemirror_mode": {
    "name": "ipython",
    "version": 3
   },
   "file_extension": ".py",
   "mimetype": "text/x-python",
   "name": "python",
   "nbconvert_exporter": "python",
   "pygments_lexer": "ipython3",
   "version": "3.8.20"
  }
 },
 "nbformat": 4,
 "nbformat_minor": 5
}
