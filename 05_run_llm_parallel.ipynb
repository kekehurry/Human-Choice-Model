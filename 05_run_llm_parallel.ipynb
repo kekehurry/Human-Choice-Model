{
 "cells": [
  {
   "cell_type": "code",
   "execution_count": 1,
   "id": "dc256c3b-8120-4dd6-b280-f2d91c0c82b7",
   "metadata": {},
   "outputs": [],
   "source": [
    "from model import ChoiceModel\n",
    "from concurrent.futures import ThreadPoolExecutor, as_completed\n",
    "from tqdm import tqdm\n",
    "import pandas as pd\n",
    "from tqdm import tqdm\n",
    "import numpy as np\n",
    "import random  \n",
    "\n",
    "np.random.seed(42)\n",
    "random.seed(42)"
   ]
  },
  {
   "cell_type": "code",
   "execution_count": 2,
   "id": "fd0a120b-2677-45ec-b943-e3000e6b3ddf",
   "metadata": {},
   "outputs": [],
   "source": [
    "def process_row(choice_model, row):\n",
    "    profile = row[['person_id', 'age', 'individual_income',\n",
    "                    'household_size', 'family_structure', 'vehicles', 'cypher']]\n",
    "    profile = profile.to_dict()\n",
    "    response = choice_model.infer(\n",
    "        profile=profile, mode='experiment',in_parallel=True)\n",
    "    return response\n",
    "\n",
    "def run_experiments(desire,num_sample,num_threads = 5):\n",
    "    print(\"get test data\")\n",
    "    test_data_path = f'data/test/{desire}.csv'\n",
    "    test_df = pd.read_csv(test_data_path, index_col=False)\n",
    "    print(f\"start experiemtns (desire={desire},sample_num={num_sample})\")\n",
    "    choice_model = ChoiceModel(\n",
    "    data_dir='data', desire=desire, sample_num=num_sample, skip_init=False)\n",
    "    data = []\n",
    "    with ThreadPoolExecutor(max_workers=num_threads) as executor:\n",
    "        futures = [executor.submit(process_row, choice_model, row) for idx, row in test_df.iterrows()]\n",
    "        for future in tqdm(as_completed(futures), total=len(futures)):\n",
    "            try:\n",
    "                response = future.result()\n",
    "                if response is not None:\n",
    "                    data.append(response)\n",
    "            except Exception as e:\n",
    "                print(f\"Error get response: {e}\")\n",
    "\n",
    "    data_df = pd.DataFrame(data, columns=['person_id', 'profile', 'top_k', 'desire', 'city', 'cypher',\n",
    "                                      'amenity_recommendation', 'amenity_llm_choice', 'amenity_final_choice',\n",
    "                                      'mode_recommendation', 'mode_llm_choice', 'mode_final_choice'])\n",
    "    data_df.to_csv(choice_model.log_data_path)\n",
    "    print(f'data saved to {choice_model.log_data_path}')\n",
    "    print(\"==\"*20)"
   ]
  },
  {
   "cell_type": "code",
   "execution_count": null,
   "id": "f519113e-d9b4-41fd-be76-6657a151953d",
   "metadata": {},
   "outputs": [
    {
     "name": "stdout",
     "output_type": "stream",
     "text": [
      "get test data\n",
      "start experiemtns (desire=Eat,sample_num=400)\n"
     ]
    },
    {
     "name": "stderr",
     "output_type": "stream",
     "text": [
      "preparing train data...: 100%|██████████| 400/400 [00:01<00:00, 202.21it/s]\n",
      "preparing test data...: 100%|██████████| 1000/1000 [00:00<00:00, 12042.77it/s]\n",
      "adding person nodes...: 100%|██████████| 399/399 [00:00<00:00, 550.57it/s]\n",
      "adding desire nodes...: 100%|██████████| 399/399 [00:00<00:00, 517.98it/s]\n",
      "adding itention nodes...: 100%|██████████| 400/400 [00:00<00:00, 561.36it/s]\n",
      "adding wan_to edges...: 100%|██████████| 399/399 [00:00<00:00, 464.53it/s]\n",
      "adding go_to edges...: 100%|██████████| 400/400 [00:00<00:00, 425.38it/s]\n"
     ]
    },
    {
     "name": "stdout",
     "output_type": "stream",
     "text": [
      "creating neo4j index...\n",
      "done!\n"
     ]
    },
    {
     "name": "stderr",
     "output_type": "stream",
     "text": [
      "100%|██████████| 1000/1000 [1:00:14<00:00,  3.61s/it]\n"
     ]
    },
    {
     "name": "stdout",
     "output_type": "stream",
     "text": [
      "data saved to data/logs/400/Eat.csv\n",
      "========================================\n",
      "get test data\n",
      "start experiemtns (desire=Eat,sample_num=500)\n"
     ]
    },
    {
     "name": "stderr",
     "output_type": "stream",
     "text": [
      "preparing train data...: 100%|██████████| 500/500 [00:02<00:00, 201.51it/s]\n",
      "preparing test data...: 100%|██████████| 1000/1000 [00:00<00:00, 11735.11it/s]\n",
      "adding person nodes...: 100%|██████████| 499/499 [00:00<00:00, 604.97it/s]\n",
      "adding desire nodes...: 100%|██████████| 499/499 [00:00<00:00, 564.48it/s]\n",
      "adding itention nodes...: 100%|██████████| 500/500 [00:00<00:00, 513.65it/s]\n",
      "adding wan_to edges...: 100%|██████████| 499/499 [00:01<00:00, 431.47it/s]\n",
      "adding go_to edges...: 100%|██████████| 500/500 [00:01<00:00, 434.50it/s]\n"
     ]
    },
    {
     "name": "stdout",
     "output_type": "stream",
     "text": [
      "creating neo4j index...\n",
      "done!\n"
     ]
    },
    {
     "name": "stderr",
     "output_type": "stream",
     "text": [
      "100%|██████████| 1000/1000 [59:59<00:00,  3.60s/it] \n"
     ]
    },
    {
     "name": "stdout",
     "output_type": "stream",
     "text": [
      "data saved to data/logs/500/Eat.csv\n",
      "========================================\n",
      "get test data\n",
      "start experiemtns (desire=Eat,sample_num=600)\n"
     ]
    },
    {
     "name": "stderr",
     "output_type": "stream",
     "text": [
      "preparing train data...: 100%|██████████| 600/600 [00:02<00:00, 201.53it/s]\n",
      "preparing test data...: 100%|██████████| 1000/1000 [00:00<00:00, 12050.21it/s]\n",
      "adding person nodes...: 100%|██████████| 598/598 [00:01<00:00, 587.04it/s]\n",
      "adding desire nodes...: 100%|██████████| 598/598 [00:00<00:00, 657.57it/s]\n",
      "adding itention nodes...: 100%|██████████| 600/600 [00:00<00:00, 621.24it/s]\n",
      "adding wan_to edges...: 100%|██████████| 598/598 [00:01<00:00, 508.02it/s]\n",
      "adding go_to edges...: 100%|██████████| 600/600 [00:01<00:00, 470.21it/s]\n"
     ]
    },
    {
     "name": "stdout",
     "output_type": "stream",
     "text": [
      "creating neo4j index...\n",
      "done!\n"
     ]
    },
    {
     "name": "stderr",
     "output_type": "stream",
     "text": [
      "100%|██████████| 1000/1000 [59:49<00:00,  3.59s/it] \n"
     ]
    },
    {
     "name": "stdout",
     "output_type": "stream",
     "text": [
      "data saved to data/logs/600/Eat.csv\n",
      "========================================\n",
      "get test data\n",
      "start experiemtns (desire=Eat,sample_num=700)\n"
     ]
    },
    {
     "name": "stderr",
     "output_type": "stream",
     "text": [
      "preparing train data...: 100%|██████████| 700/700 [00:03<00:00, 203.33it/s]\n",
      "preparing test data...: 100%|██████████| 1000/1000 [00:00<00:00, 11933.27it/s]\n",
      "adding person nodes...: 100%|██████████| 698/698 [00:01<00:00, 606.94it/s]\n",
      "adding desire nodes...: 100%|██████████| 698/698 [00:01<00:00, 499.00it/s]\n",
      "adding itention nodes...: 100%|██████████| 700/700 [00:01<00:00, 531.59it/s]\n",
      "adding wan_to edges...: 100%|██████████| 698/698 [00:01<00:00, 418.01it/s]\n",
      "adding go_to edges...: 100%|██████████| 700/700 [00:01<00:00, 449.18it/s]\n"
     ]
    },
    {
     "name": "stdout",
     "output_type": "stream",
     "text": [
      "creating neo4j index...\n",
      "done!\n"
     ]
    },
    {
     "name": "stderr",
     "output_type": "stream",
     "text": [
      "100%|██████████| 1000/1000 [1:00:06<00:00,  3.61s/it]\n"
     ]
    },
    {
     "name": "stdout",
     "output_type": "stream",
     "text": [
      "data saved to data/logs/700/Eat.csv\n",
      "========================================\n",
      "get test data\n",
      "start experiemtns (desire=Eat,sample_num=800)\n"
     ]
    },
    {
     "name": "stderr",
     "output_type": "stream",
     "text": [
      "preparing train data...: 100%|██████████| 800/800 [00:03<00:00, 203.61it/s]\n",
      "preparing test data...: 100%|██████████| 1000/1000 [00:00<00:00, 11952.82it/s]\n",
      "adding person nodes...: 100%|██████████| 797/797 [00:01<00:00, 542.63it/s]\n",
      "adding desire nodes...: 100%|██████████| 797/797 [00:01<00:00, 563.34it/s]\n",
      "adding itention nodes...: 100%|██████████| 800/800 [00:01<00:00, 535.46it/s]\n",
      "adding wan_to edges...: 100%|██████████| 797/797 [00:02<00:00, 391.57it/s]\n",
      "adding go_to edges...: 100%|██████████| 800/800 [00:01<00:00, 441.60it/s]\n"
     ]
    },
    {
     "name": "stdout",
     "output_type": "stream",
     "text": [
      "creating neo4j index...\n",
      "done!\n"
     ]
    },
    {
     "name": "stderr",
     "output_type": "stream",
     "text": [
      "100%|██████████| 1000/1000 [33:56<00:00,  2.04s/it] \n"
     ]
    },
    {
     "name": "stdout",
     "output_type": "stream",
     "text": [
      "data saved to data/logs/800/Eat.csv\n",
      "========================================\n",
      "get test data\n",
      "start experiemtns (desire=Eat,sample_num=900)\n"
     ]
    },
    {
     "name": "stderr",
     "output_type": "stream",
     "text": [
      "preparing train data...: 100%|██████████| 900/900 [00:04<00:00, 201.93it/s]\n",
      "preparing test data...: 100%|██████████| 1000/1000 [00:00<00:00, 11660.20it/s]\n",
      "adding person nodes...: 100%|██████████| 897/897 [00:01<00:00, 497.55it/s]\n",
      "adding desire nodes...: 100%|██████████| 897/897 [00:01<00:00, 588.67it/s]\n",
      "adding itention nodes...: 100%|██████████| 900/900 [00:01<00:00, 540.72it/s]\n",
      "adding wan_to edges...: 100%|██████████| 897/897 [00:02<00:00, 415.06it/s]\n",
      "adding go_to edges...: 100%|██████████| 900/900 [00:01<00:00, 467.14it/s]\n"
     ]
    },
    {
     "name": "stdout",
     "output_type": "stream",
     "text": [
      "creating neo4j index...\n",
      "done!\n"
     ]
    },
    {
     "name": "stderr",
     "output_type": "stream",
     "text": [
      " 24%|██▍       | 243/1000 [06:38<23:32,  1.87s/it]"
     ]
    }
   ],
   "source": [
    "for i in range(4,11):\n",
    "    num_sample = i*100\n",
    "    run_experiments(desire='Eat',num_sample=num_sample,num_threads = 5)"
   ]
  }
 ],
 "metadata": {
  "kernelspec": {
   "display_name": "cs_choice",
   "language": "python",
   "name": "cs_choice"
  },
  "language_info": {
   "codemirror_mode": {
    "name": "ipython",
    "version": 3
   },
   "file_extension": ".py",
   "mimetype": "text/x-python",
   "name": "python",
   "nbconvert_exporter": "python",
   "pygments_lexer": "ipython3",
   "version": "3.8.20"
  }
 },
 "nbformat": 4,
 "nbformat_minor": 5
}
