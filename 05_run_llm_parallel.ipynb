{
 "cells": [
  {
   "cell_type": "code",
   "execution_count": 1,
   "id": "dc256c3b-8120-4dd6-b280-f2d91c0c82b7",
   "metadata": {},
   "outputs": [
    {
     "data": {
      "text/html": [
       "<div>\n",
       "<style scoped>\n",
       "    .dataframe tbody tr th:only-of-type {\n",
       "        vertical-align: middle;\n",
       "    }\n",
       "\n",
       "    .dataframe tbody tr th {\n",
       "        vertical-align: top;\n",
       "    }\n",
       "\n",
       "    .dataframe thead th {\n",
       "        text-align: right;\n",
       "    }\n",
       "</style>\n",
       "<table border=\"1\" class=\"dataframe\">\n",
       "  <thead>\n",
       "    <tr style=\"text-align: right;\">\n",
       "      <th></th>\n",
       "      <th>person_id</th>\n",
       "      <th>travel_purpose</th>\n",
       "      <th>target_amenity</th>\n",
       "      <th>mode</th>\n",
       "      <th>distance_miles</th>\n",
       "      <th>duration_minutes</th>\n",
       "      <th>age</th>\n",
       "      <th>individual_income</th>\n",
       "      <th>household_size</th>\n",
       "      <th>family_structure</th>\n",
       "      <th>vehicles</th>\n",
       "      <th>cypher</th>\n",
       "    </tr>\n",
       "  </thead>\n",
       "  <tbody>\n",
       "    <tr>\n",
       "      <th>0</th>\n",
       "      <td>5.570035e+18</td>\n",
       "      <td>Eat</td>\n",
       "      <td>F&amp;B Eatery/Drinking Places</td>\n",
       "      <td>Walking</td>\n",
       "      <td>0.0</td>\n",
       "      <td>0.0</td>\n",
       "      <td>29</td>\n",
       "      <td>53672</td>\n",
       "      <td>3_person</td>\n",
       "      <td>family_single</td>\n",
       "      <td>1</td>\n",
       "      <td>\\n        MATCH (p:Person)\\n        WHERE (p.a...</td>\n",
       "    </tr>\n",
       "    <tr>\n",
       "      <th>1</th>\n",
       "      <td>7.600486e+18</td>\n",
       "      <td>Eat</td>\n",
       "      <td>F&amp;B Eatery/Snack and Nonalcoholic Beverage Bars</td>\n",
       "      <td>Walking</td>\n",
       "      <td>0.0</td>\n",
       "      <td>0.0</td>\n",
       "      <td>26</td>\n",
       "      <td>0</td>\n",
       "      <td>3_person</td>\n",
       "      <td>nonfamily_single</td>\n",
       "      <td>0</td>\n",
       "      <td>\\n        MATCH (p:Person)\\n        WHERE (p.a...</td>\n",
       "    </tr>\n",
       "  </tbody>\n",
       "</table>\n",
       "</div>"
      ],
      "text/plain": [
       "      person_id travel_purpose  \\\n",
       "0  5.570035e+18            Eat   \n",
       "1  7.600486e+18            Eat   \n",
       "\n",
       "                                    target_amenity     mode  distance_miles  \\\n",
       "0                       F&B Eatery/Drinking Places  Walking             0.0   \n",
       "1  F&B Eatery/Snack and Nonalcoholic Beverage Bars  Walking             0.0   \n",
       "\n",
       "   duration_minutes  age  individual_income household_size  family_structure  \\\n",
       "0               0.0   29              53672       3_person     family_single   \n",
       "1               0.0   26                  0       3_person  nonfamily_single   \n",
       "\n",
       "  vehicles                                             cypher  \n",
       "0        1  \\n        MATCH (p:Person)\\n        WHERE (p.a...  \n",
       "1        0  \\n        MATCH (p:Person)\\n        WHERE (p.a...  "
      ]
     },
     "execution_count": 1,
     "metadata": {},
     "output_type": "execute_result"
    }
   ],
   "source": [
    "from tqdm import tqdm\n",
    "import pandas as pd\n",
    "import numpy as np\n",
    "import random   \n",
    "\n",
    "np.random.seed(42)\n",
    "random.seed(42)\n",
    "\n",
    "desire = 'Eat'\n",
    "test_data_path = f'data/test/{desire}.csv'\n",
    "test_df = pd.read_csv(test_data_path, index_col=False)\n",
    "test_df.head(2)"
   ]
  },
  {
   "cell_type": "code",
   "execution_count": null,
   "id": "fd0a120b-2677-45ec-b943-e3000e6b3ddf",
   "metadata": {},
   "outputs": [
    {
     "name": "stderr",
     "output_type": "stream",
     "text": [
      "  0%|          | 1/1000 [03:42<61:49:20, 222.78s/it]"
     ]
    },
    {
     "name": "stdout",
     "output_type": "stream",
     "text": [
      "[5.570034953816602e+18, 'A 29 year old person, living in a family_single family with 3_person members. The person has 1 vehicles and an annual income of 53672 dollars.', 50, 'Eat', 'Boston', \"\\n        MATCH (p:Person)\\n        WHERE (p.age>=18 AND p.age<30) OR (p.income>=30000 AND p.income<60000)\\n        WITH p ORDER BY rand() LIMIT 50\\n        MATCH (p)-[r1:WANT_TO]-(d:Desire {desire:'Eat'})-[r2:GO_TO]-(i:Intention)\\n        RETURN COLLECT(DISTINCT p) AS person, \\n            COLLECT(DISTINCT d) AS desire, \\n            COLLECT(DISTINCT i) AS intention,\\n            COLLECT(DISTINCT r1) AS want_to,\\n            COLLECT(DISTINCT r2) AS go_to\\n        \", [{'choice': 'Full-Service Restaurants', 'score': 0.42}, {'choice': 'Limited-Service Restaurants', 'score': 0.21}, {'choice': 'Nonalcoholic Bars', 'score': 0.19}, {'choice': 'Drinking Places', 'score': 0.05}], '{\\n  \"thought\": \"Based on the profile, this person seems to be a young adult living in Boston with a moderate income and family commitments. Considering the choices of people with similar profiles, there\\'s a clear preference for Full-Service Restaurants over other options. The cultural context of Boston suggests that diners value high-quality food experiences and may be willing to pay more for them.\",\\n  \"additional_condition\": \"\",\\n  \"final_answer\": [\\n    {\\n      \"choice\": \"Full-Service Restaurants\",\\n      \"weight\": 0.62\\n    },\\n    {\\n      \"choice\": \"Limited-Service Restaurants\",\\n      \"weight\": 0.26\\n    },\\n    {\\n      \"choice\": \"Nonalcoholic Bars\",\\n      \"weight\": 0.09\\n    },\\n    {\\n      \"choice\": \"Drinking Places\",\\n      \"weight\": 0.03\\n    }\\n  ]\\n}', 'Limited-Service Restaurants', [{'choice': 'Walking', 'score': 0.33}, {'choice': 'Public_transport', 'score': 0.32}, {'choice': 'Car', 'score': 0.23}], '{\\n  \"thought\": \"Based on the profile, a young adult living in Boston with a moderate income and access to a vehicle is likely to prioritize convenience and flexibility when choosing how to eat. Consider the choices of people with similar profiles, who have opted for public transportation or walking, suggesting a preference for healthier and more budget-friendly options. However, given the person\\'s possession of a vehicle and relatively high annual income, I think they may be more inclined towards using their car.\",\\n  \"additional_condition\": \"None\",\\n  \"final_answer\": [\\n    {\"choice\": \"Car\", \"weight\": 0.55},\\n    {\"choice\": \"Public_transport\", \"score\": 0.27},\\n    {\"choice\": \"Walking\", \"weight\": 0.18}\\n  ]\\n}', None]\n",
      "get response [5.570034953816602e+18, 'A 29 year old person, living in a family_single family with 3_person members. The person has 1 vehicles and an annual income of 53672 dollars.', 50, 'Eat', 'Boston', \"\\n        MATCH (p:Person)\\n        WHERE (p.age>=18 AND p.age<30) OR (p.income>=30000 AND p.income<60000)\\n        WITH p ORDER BY rand() LIMIT 50\\n        MATCH (p)-[r1:WANT_TO]-(d:Desire {desire:'Eat'})-[r2:GO_TO]-(i:Intention)\\n        RETURN COLLECT(DISTINCT p) AS person, \\n            COLLECT(DISTINCT d) AS desire, \\n            COLLECT(DISTINCT i) AS intention,\\n            COLLECT(DISTINCT r1) AS want_to,\\n            COLLECT(DISTINCT r2) AS go_to\\n        \", [{'choice': 'Full-Service Restaurants', 'score': 0.42}, {'choice': 'Limited-Service Restaurants', 'score': 0.21}, {'choice': 'Nonalcoholic Bars', 'score': 0.19}, {'choice': 'Drinking Places', 'score': 0.05}], '{\\n  \"thought\": \"Based on the profile, this person seems to be a young adult living in Boston with a moderate income and family commitments. Considering the choices of people with similar profiles, there\\'s a clear preference for Full-Service Restaurants over other options. The cultural context of Boston suggests that diners value high-quality food experiences and may be willing to pay more for them.\",\\n  \"additional_condition\": \"\",\\n  \"final_answer\": [\\n    {\\n      \"choice\": \"Full-Service Restaurants\",\\n      \"weight\": 0.62\\n    },\\n    {\\n      \"choice\": \"Limited-Service Restaurants\",\\n      \"weight\": 0.26\\n    },\\n    {\\n      \"choice\": \"Nonalcoholic Bars\",\\n      \"weight\": 0.09\\n    },\\n    {\\n      \"choice\": \"Drinking Places\",\\n      \"weight\": 0.03\\n    }\\n  ]\\n}', 'Limited-Service Restaurants', [{'choice': 'Walking', 'score': 0.33}, {'choice': 'Public_transport', 'score': 0.32}, {'choice': 'Car', 'score': 0.23}], '{\\n  \"thought\": \"Based on the profile, a young adult living in Boston with a moderate income and access to a vehicle is likely to prioritize convenience and flexibility when choosing how to eat. Consider the choices of people with similar profiles, who have opted for public transportation or walking, suggesting a preference for healthier and more budget-friendly options. However, given the person\\'s possession of a vehicle and relatively high annual income, I think they may be more inclined towards using their car.\",\\n  \"additional_condition\": \"None\",\\n  \"final_answer\": [\\n    {\"choice\": \"Car\", \"weight\": 0.55},\\n    {\"choice\": \"Public_transport\", \"score\": 0.27},\\n    {\"choice\": \"Walking\", \"weight\": 0.18}\\n  ]\\n}', None]\n"
     ]
    }
   ],
   "source": [
    "from model import ChoiceModel\n",
    "from concurrent.futures import ThreadPoolExecutor, as_completed\n",
    "from tqdm import tqdm\n",
    "import pandas as pd\n",
    "\n",
    "num_sample = 900\n",
    "num_threads = 3\n",
    "\n",
    "data = []\n",
    "\n",
    "choice_model = ChoiceModel(\n",
    "    data_dir='data', desire=desire, sample_num=num_sample, skip_init=True)\n",
    "\n",
    "def process_row(row):\n",
    "    profile = row[['person_id', 'age', 'individual_income',\n",
    "                    'household_size', 'family_structure', 'vehicles', 'cypher']]\n",
    "    profile = profile.to_dict()\n",
    "    response = choice_model.infer(\n",
    "        profile=profile, mode='experiment',in_parallel=True)\n",
    "    print(response)\n",
    "    return response\n",
    "\n",
    "with ThreadPoolExecutor(max_workers=num_threads) as executor:\n",
    "    futures = [executor.submit(process_row, row) for idx, row in test_df.iterrows()]\n",
    "    for future in tqdm(as_completed(futures), total=len(futures)):\n",
    "        try:\n",
    "            response = future.result()\n",
    "            if response is not None:\n",
    "                print('get response', response)\n",
    "            data.append(response)\n",
    "        except Exception as e:\n",
    "            print(f\"Error get response: {e}\")"
   ]
  },
  {
   "cell_type": "code",
   "execution_count": 3,
   "id": "e249adff",
   "metadata": {},
   "outputs": [
    {
     "name": "stdout",
     "output_type": "stream",
     "text": [
      "[5.570034953816602e+18, 'A 29 year old person, living in a family_single family with 3_person members. The person has 1 vehicles and an annual income of 53672 dollars.', 50, 'Eat', 'Boston', \"\\n        MATCH (p:Person)\\n        WHERE (p.age>=18 AND p.age<30) OR (p.income>=30000 AND p.income<60000)\\n        WITH p ORDER BY rand() LIMIT 50\\n        MATCH (p)-[r1:WANT_TO]-(d:Desire {desire:'Eat'})-[r2:GO_TO]-(i:Intention)\\n        RETURN COLLECT(DISTINCT p) AS person, \\n            COLLECT(DISTINCT d) AS desire, \\n            COLLECT(DISTINCT i) AS intention,\\n            COLLECT(DISTINCT r1) AS want_to,\\n            COLLECT(DISTINCT r2) AS go_to\\n        \", [{'choice': 'Full-Service Restaurants', 'score': 0.48}, {'choice': 'Nonalcoholic Bars', 'score': 0.19}, {'choice': 'Limited-Service Restaurants', 'score': 0.16}, {'choice': 'Drinking Places', 'score': 0.05}], '{ \\n    \"thought\": \"Based on the profile, a person who is A 29 year old person living in a family_single family with 3_person members and an annual income of $53672 dollars, likely prefers dining options that are convenient, yet not too casual. Consider the choices of people with similar profiles, they tend to favor Full-Service Restaurants as the top choice (0.48 score). The culture in Boston might lean towards a more upscale dining experience. I think a balanced approach is suitable.\",\\n    \"additional_condition\": null,\\n    \"final_answer\":[{\\n        \"choice\": \"Full-Service Restaurants\",\\n        \"weight\": 0.55\\n    },{\\n        \"choice\": \"Limited-Service Restaurants\",\\n        \"weight\": 0.30\\n    },{\\n        \"choice\": \"Nonalcoholic Bars\",\\n        \"weight\": 0.10\\n    },{\\n        \"choice\": \"Drinking Places\",\\n        \"weight\": 0.05\\n    }]\\n}', 'Limited-Service Restaurants', [{'choice': 'Walking', 'score': 0.4}, {'choice': 'Public_transport', 'score': 0.28}, {'choice': 'Car', 'score': 0.19}], '{\\n  \"thought\": \"Based on the profile, a young adult living in Boston with a moderate income and a family to consider, I would expect them to prioritize convenient and efficient modes of transportation. Consider the choices of people with similar profiles, who seem to favor walking over other options. The culture in Boston, known for its walkability and public transportation infrastructure, suggests that residents are inclined towards more sustainable and less car-dependent lifestyles. However, since this person has a vehicle and lives in a single-family home, I would also consider their desire for convenience when eating out.\",\\n  \"additional_condition\": \"The person wants to eat out\",\\n  \"final_answer\": [\\n    {\\n      \"choice\": \"Walking\",\\n      \"weight\": 0.55\\n    },\\n    {\\n      \"choice\": \"Public transport\",\\n      \"weight\": 0.30\\n    },\\n    {\\n      \"choice\": \"Car\",\\n      \"weight\": 0.15\\n    }\\n  ]\\n}', 'Walking']\n"
     ]
    }
   ],
   "source": [
    "for idx, row in test_df.iterrows():\n",
    "    process_row(row)\n",
    "    break"
   ]
  },
  {
   "cell_type": "code",
   "execution_count": null,
   "id": "d26da8a9",
   "metadata": {},
   "outputs": [],
   "source": [
    "data_df = pd.DataFrame(data, columns=['person_id', 'profile', 'top_k', 'desire', 'city', 'cypher',\n",
    "                                      'amenity_recommendation', 'amenity_llm_choice', 'amenity_final_choice',\n",
    "                                      'mode_recommendation', 'mode_llm_choice', 'mode_final_choice'])"
   ]
  }
 ],
 "metadata": {
  "kernelspec": {
   "display_name": "cs_choice",
   "language": "python",
   "name": "python3"
  },
  "language_info": {
   "codemirror_mode": {
    "name": "ipython",
    "version": 3
   },
   "file_extension": ".py",
   "mimetype": "text/x-python",
   "name": "python",
   "nbconvert_exporter": "python",
   "pygments_lexer": "ipython3",
   "version": "3.8.20"
  }
 },
 "nbformat": 4,
 "nbformat_minor": 5
}
