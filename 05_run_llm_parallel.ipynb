{
 "cells": [
  {
   "cell_type": "code",
   "execution_count": 1,
   "id": "dc256c3b-8120-4dd6-b280-f2d91c0c82b7",
   "metadata": {},
   "outputs": [],
   "source": [
    "from model import ChoiceModel\n",
    "from concurrent.futures import ThreadPoolExecutor, as_completed\n",
    "from tqdm import tqdm\n",
    "import pandas as pd\n",
    "from tqdm import tqdm\n",
    "import numpy as np\n",
    "import random  \n",
    "\n",
    "np.random.seed(42)\n",
    "random.seed(42)"
   ]
  },
  {
   "cell_type": "code",
   "execution_count": 2,
   "id": "fd0a120b-2677-45ec-b943-e3000e6b3ddf",
   "metadata": {},
   "outputs": [],
   "source": [
    "def process_row(choice_model, row):\n",
    "    profile = row[['person_id', 'age', 'individual_income',\n",
    "                    'household_size', 'family_structure', 'vehicles', 'cypher']]\n",
    "    profile = profile.to_dict()\n",
    "    # additional_condition='The weather is sunny now'\n",
    "    additional_condition='The weather is rainy now'\n",
    "    # additional_condition=None\n",
    "    response = choice_model.infer(\n",
    "        profile=profile, mode='experiment',in_parallel=True,additional_condition=additional_condition)\n",
    "    return response\n",
    "\n",
    "def run_experiments(desire,num_sample,num_threads = 5,data_path=None):\n",
    "    print(\"get test data\")\n",
    "    test_data_path = f'data/test/{desire}.csv'\n",
    "    test_df = pd.read_csv(test_data_path, index_col=False)\n",
    "    print(f\"start experiemtns (desire={desire},sample_num={num_sample})\")\n",
    "    choice_model = ChoiceModel(\n",
    "    data_dir='data', desire=desire, sample_num=num_sample, skip_init=False)\n",
    "    data = []\n",
    "    with ThreadPoolExecutor(max_workers=num_threads) as executor:\n",
    "        futures = [executor.submit(process_row, choice_model, row) for idx, row in test_df.iterrows()]\n",
    "        for future in tqdm(as_completed(futures), total=len(futures)):\n",
    "            try:\n",
    "                response = future.result()\n",
    "                if response is not None:\n",
    "                    data.append(response)\n",
    "            except Exception as e:\n",
    "                print(f\"Error get response: {e}\")\n",
    "\n",
    "    data_df = pd.DataFrame(data, columns=['person_id', 'profile', 'top_k', 'desire', 'city', 'cypher',\n",
    "                                      'amenity_recommendation', 'amenity_llm_choice', 'amenity_final_choice',\n",
    "                                      'mode_recommendation', 'mode_llm_choice', 'mode_final_choice'])\n",
    "    if data_path is None:\n",
    "        data_path = choice_model.log_data_path\n",
    "    data_df.to_csv(data_path)\n",
    "    print(f'data saved to {data_path}')\n",
    "    print(\"==\"*20)"
   ]
  },
  {
   "cell_type": "code",
   "execution_count": 3,
   "id": "f519113e-d9b4-41fd-be76-6657a151953d",
   "metadata": {},
   "outputs": [
    {
     "name": "stdout",
     "output_type": "stream",
     "text": [
      "get test data\n",
      "start experiemtns (desire=Eat,sample_num=1000)\n"
     ]
    },
    {
     "name": "stderr",
     "output_type": "stream",
     "text": [
      "preparing train data...: 100%|██████████| 1000/1000 [00:04<00:00, 205.41it/s]\n",
      "preparing test data...: 100%|██████████| 1000/1000 [00:00<00:00, 11811.91it/s]\n",
      "adding person nodes...: 100%|██████████| 997/997 [00:01<00:00, 546.87it/s]\n",
      "adding desire nodes...: 100%|██████████| 997/997 [00:01<00:00, 518.20it/s]\n",
      "adding itention nodes...: 100%|██████████| 1000/1000 [00:01<00:00, 560.26it/s]\n",
      "adding wan_to edges...: 100%|██████████| 997/997 [00:02<00:00, 362.86it/s]\n",
      "adding go_to edges...: 100%|██████████| 1000/1000 [00:02<00:00, 365.38it/s]\n"
     ]
    },
    {
     "name": "stdout",
     "output_type": "stream",
     "text": [
      "creating neo4j index...\n",
      "done!\n"
     ]
    },
    {
     "name": "stderr",
     "output_type": "stream",
     "text": [
      "100%|██████████| 1000/1000 [28:08<00:00,  1.69s/it]"
     ]
    },
    {
     "name": "stdout",
     "output_type": "stream",
     "text": [
      "data saved to data/logs/1000/Rainy.csv\n",
      "========================================\n"
     ]
    },
    {
     "name": "stderr",
     "output_type": "stream",
     "text": [
      "\n"
     ]
    }
   ],
   "source": [
    "log_path = 'data/logs/1000/Rainy.csv'\n",
    "run_experiments(desire='Eat',num_sample=1000,num_threads = 6,data_path=log_path)"
   ]
  },
  {
   "cell_type": "code",
   "execution_count": null,
   "id": "da8663d0-0d18-46fc-a709-f0ea8fd3a599",
   "metadata": {},
   "outputs": [],
   "source": []
  }
 ],
 "metadata": {
  "kernelspec": {
   "display_name": "cs_choice",
   "language": "python",
   "name": "cs_choice"
  },
  "language_info": {
   "codemirror_mode": {
    "name": "ipython",
    "version": 3
   },
   "file_extension": ".py",
   "mimetype": "text/x-python",
   "name": "python",
   "nbconvert_exporter": "python",
   "pygments_lexer": "ipython3",
   "version": "3.8.20"
  }
 },
 "nbformat": 4,
 "nbformat_minor": 5
}
