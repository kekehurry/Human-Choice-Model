{
 "cells": [
  {
   "cell_type": "code",
   "execution_count": 1,
   "id": "dc256c3b-8120-4dd6-b280-f2d91c0c82b7",
   "metadata": {},
   "outputs": [],
   "source": [
    "from model import ChoiceModel\n",
    "from concurrent.futures import ThreadPoolExecutor, as_completed\n",
    "from tqdm import tqdm\n",
    "import pandas as pd\n",
    "from tqdm import tqdm\n",
    "import numpy as np\n",
    "import random  \n",
    "\n",
    "np.random.seed(42)\n",
    "random.seed(42)"
   ]
  },
  {
   "cell_type": "code",
   "execution_count": 2,
   "id": "fd0a120b-2677-45ec-b943-e3000e6b3ddf",
   "metadata": {},
   "outputs": [],
   "source": [
    "def process_row(choice_model, row):\n",
    "    profile = row[['person_id', 'age', 'individual_income',\n",
    "                    'household_size', 'family_structure', 'vehicles', 'cypher']]\n",
    "    profile = profile.to_dict()\n",
    "    response = choice_model.infer(\n",
    "        profile=profile, mode='experiment',in_parallel=True)\n",
    "    return response\n",
    "\n",
    "def run_experiments(desire,num_sample,num_threads = 5):\n",
    "    print(\"get test data\")\n",
    "    test_data_path = f'data/test/{desire}.csv'\n",
    "    test_df = pd.read_csv(test_data_path, index_col=False)\n",
    "    print(f\"start experiemtns (desire={desire},sample_num={num_sample})\")\n",
    "    choice_model = ChoiceModel(\n",
    "    data_dir='data', desire=desire, sample_num=num_sample, skip_init=False)\n",
    "    data = []\n",
    "    with ThreadPoolExecutor(max_workers=num_threads) as executor:\n",
    "        futures = [executor.submit(process_row, choice_model, row) for idx, row in test_df.iterrows()]\n",
    "        for future in tqdm(as_completed(futures), total=len(futures)):\n",
    "            try:\n",
    "                response = future.result()\n",
    "                if response is not None:\n",
    "                    data.append(response)\n",
    "            except Exception as e:\n",
    "                print(f\"Error get response: {e}\")\n",
    "\n",
    "    data_df = pd.DataFrame(data, columns=['person_id', 'profile', 'top_k', 'desire', 'city', 'cypher',\n",
    "                                      'amenity_recommendation', 'amenity_llm_choice', 'amenity_final_choice',\n",
    "                                      'mode_recommendation', 'mode_llm_choice', 'mode_final_choice'])\n",
    "    data_df.to_csv(choice_model.log_data_path)\n",
    "    print(f'data saved to {choice_model.log_data_path}')\n",
    "    print(\"==\"*20)"
   ]
  },
  {
   "cell_type": "code",
   "execution_count": 3,
   "id": "f519113e-d9b4-41fd-be76-6657a151953d",
   "metadata": {},
   "outputs": [
    {
     "name": "stdout",
     "output_type": "stream",
     "text": [
      "get test data\n",
      "start experiemtns (desire=Eat,sample_num=1100)\n"
     ]
    },
    {
     "name": "stderr",
     "output_type": "stream",
     "text": [
      "preparing train data...: 100%|██████████| 1100/1100 [00:05<00:00, 199.15it/s]\n",
      "preparing test data...: 100%|██████████| 1000/1000 [00:00<00:00, 11723.40it/s]\n",
      "adding person nodes...: 100%|██████████| 1097/1097 [00:03<00:00, 349.74it/s]\n",
      "adding desire nodes...: 100%|██████████| 1097/1097 [00:02<00:00, 491.26it/s]\n",
      "adding itention nodes...: 100%|██████████| 1100/1100 [00:02<00:00, 454.95it/s]\n",
      "adding wan_to edges...: 100%|██████████| 1097/1097 [00:03<00:00, 309.82it/s]\n",
      "adding go_to edges...: 100%|██████████| 1100/1100 [00:03<00:00, 327.59it/s]\n"
     ]
    },
    {
     "name": "stdout",
     "output_type": "stream",
     "text": [
      "creating neo4j index...\n",
      "done!\n"
     ]
    },
    {
     "name": "stderr",
     "output_type": "stream",
     "text": [
      "100%|██████████| 1000/1000 [27:58<00:00,  1.68s/it]"
     ]
    },
    {
     "name": "stdout",
     "output_type": "stream",
     "text": [
      "data saved to data/logs/1100/Eat.csv\n",
      "========================================\n"
     ]
    },
    {
     "name": "stderr",
     "output_type": "stream",
     "text": [
      "\n"
     ]
    }
   ],
   "source": [
    "run_experiments(desire='Eat',num_sample=1100,num_threads = 5)"
   ]
  }
 ],
 "metadata": {
  "kernelspec": {
   "display_name": "cs_choice",
   "language": "python",
   "name": "cs_choice"
  },
  "language_info": {
   "codemirror_mode": {
    "name": "ipython",
    "version": 3
   },
   "file_extension": ".py",
   "mimetype": "text/x-python",
   "name": "python",
   "nbconvert_exporter": "python",
   "pygments_lexer": "ipython3",
   "version": "3.8.20"
  }
 },
 "nbformat": 4,
 "nbformat_minor": 5
}
