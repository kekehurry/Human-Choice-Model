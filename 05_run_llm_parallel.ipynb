{
 "cells": [
  {
   "cell_type": "code",
   "execution_count": 2,
   "id": "dc256c3b-8120-4dd6-b280-f2d91c0c82b7",
   "metadata": {},
   "outputs": [
    {
     "data": {
      "text/html": [
       "<div>\n",
       "<style scoped>\n",
       "    .dataframe tbody tr th:only-of-type {\n",
       "        vertical-align: middle;\n",
       "    }\n",
       "\n",
       "    .dataframe tbody tr th {\n",
       "        vertical-align: top;\n",
       "    }\n",
       "\n",
       "    .dataframe thead th {\n",
       "        text-align: right;\n",
       "    }\n",
       "</style>\n",
       "<table border=\"1\" class=\"dataframe\">\n",
       "  <thead>\n",
       "    <tr style=\"text-align: right;\">\n",
       "      <th></th>\n",
       "      <th>person_id</th>\n",
       "      <th>travel_purpose</th>\n",
       "      <th>target_amenity</th>\n",
       "      <th>mode</th>\n",
       "      <th>distance_miles</th>\n",
       "      <th>duration_minutes</th>\n",
       "      <th>age</th>\n",
       "      <th>individual_income</th>\n",
       "      <th>household_size</th>\n",
       "      <th>family_structure</th>\n",
       "      <th>vehicles</th>\n",
       "      <th>cypher</th>\n",
       "    </tr>\n",
       "  </thead>\n",
       "  <tbody>\n",
       "    <tr>\n",
       "      <th>0</th>\n",
       "      <td>5.570035e+18</td>\n",
       "      <td>Eat</td>\n",
       "      <td>F&amp;B Eatery/Drinking Places</td>\n",
       "      <td>Walking</td>\n",
       "      <td>0.0</td>\n",
       "      <td>0.0</td>\n",
       "      <td>29</td>\n",
       "      <td>53672</td>\n",
       "      <td>3_person</td>\n",
       "      <td>family_single</td>\n",
       "      <td>1</td>\n",
       "      <td>\\n        MATCH (p:Person)\\n        WHERE (p.a...</td>\n",
       "    </tr>\n",
       "    <tr>\n",
       "      <th>1</th>\n",
       "      <td>7.600486e+18</td>\n",
       "      <td>Eat</td>\n",
       "      <td>F&amp;B Eatery/Snack and Nonalcoholic Beverage Bars</td>\n",
       "      <td>Walking</td>\n",
       "      <td>0.0</td>\n",
       "      <td>0.0</td>\n",
       "      <td>26</td>\n",
       "      <td>0</td>\n",
       "      <td>3_person</td>\n",
       "      <td>nonfamily_single</td>\n",
       "      <td>0</td>\n",
       "      <td>\\n        MATCH (p:Person)\\n        WHERE (p.a...</td>\n",
       "    </tr>\n",
       "  </tbody>\n",
       "</table>\n",
       "</div>"
      ],
      "text/plain": [
       "      person_id travel_purpose  \\\n",
       "0  5.570035e+18            Eat   \n",
       "1  7.600486e+18            Eat   \n",
       "\n",
       "                                    target_amenity     mode  distance_miles  \\\n",
       "0                       F&B Eatery/Drinking Places  Walking             0.0   \n",
       "1  F&B Eatery/Snack and Nonalcoholic Beverage Bars  Walking             0.0   \n",
       "\n",
       "   duration_minutes  age  individual_income household_size  family_structure  \\\n",
       "0               0.0   29              53672       3_person     family_single   \n",
       "1               0.0   26                  0       3_person  nonfamily_single   \n",
       "\n",
       "  vehicles                                             cypher  \n",
       "0        1  \\n        MATCH (p:Person)\\n        WHERE (p.a...  \n",
       "1        0  \\n        MATCH (p:Person)\\n        WHERE (p.a...  "
      ]
     },
     "execution_count": 2,
     "metadata": {},
     "output_type": "execute_result"
    }
   ],
   "source": [
    "from tqdm import tqdm\n",
    "import pandas as pd\n",
    "import numpy as np\n",
    "import random   \n",
    "\n",
    "np.random.seed(42)\n",
    "random.seed(42)\n",
    "\n",
    "desire = 'Eat'\n",
    "test_data_path = f'data/test/{desire}.csv'\n",
    "test_df = pd.read_csv(test_data_path, index_col=False)\n",
    "test_df.head(2)"
   ]
  },
  {
   "cell_type": "code",
   "execution_count": null,
   "id": "fd0a120b-2677-45ec-b943-e3000e6b3ddf",
   "metadata": {},
   "outputs": [
    {
     "name": "stderr",
     "output_type": "stream",
     "text": [
      "  0%|          | 0/1000 [00:00<?, ?it/s]"
     ]
    }
   ],
   "source": [
    "from model import ChoiceModel\n",
    "from concurrent.futures import ThreadPoolExecutor, as_completed\n",
    "from tqdm import tqdm\n",
    "import pandas as pd\n",
    "\n",
    "num_sample = 900\n",
    "num_threads = 3\n",
    "\n",
    "data = []\n",
    "\n",
    "choice_model = ChoiceModel(\n",
    "    data_dir='data', desire=desire, sample_num=num_sample, skip_init=True)\n",
    "\n",
    "def process_row(row):\n",
    "    try:\n",
    "        profile = row[['person_id', 'age', 'individual_income',\n",
    "                        'household_size', 'family_structure', 'vehicles', 'cypher']]\n",
    "        profile = profile.to_dict()\n",
    "        response = choice_model.infer(\n",
    "            profile=profile, mode='experiment',in_parallel=True)\n",
    "        print(\"get result:\", response)\n",
    "        return response\n",
    "    except Exception as e:\n",
    "        print(e)\n",
    "        pass\n",
    "\n",
    "with ThreadPoolExecutor(max_workers=num_threads) as executor:\n",
    "    for idx,row in tqdm(test_df.iterrows(), total=len(test_df)):\n",
    "        future = executor.submit(process_row, row)\n",
    "        response = future.result()\n",
    "        print(\"get response:\", response)\n",
    "        if response:\n",
    "            data.append(response)"
   ]
  },
  {
   "cell_type": "code",
   "execution_count": null,
   "id": "d26da8a9",
   "metadata": {},
   "outputs": [],
   "source": [
    "data_df = pd.DataFrame(data, columns=['person_id', 'profile', 'top_k', 'desire', 'city', 'cypher',\n",
    "                                      'amenity_recommendation', 'amenity_llm_choice', 'amenity_final_choice',\n",
    "                                      'mode_recommendation', 'mode_llm_choice', 'mode_final_choice'])"
   ]
  }
 ],
 "metadata": {
  "kernelspec": {
   "display_name": "cs_choice",
   "language": "python",
   "name": "python3"
  },
  "language_info": {
   "codemirror_mode": {
    "name": "ipython",
    "version": 3
   },
   "file_extension": ".py",
   "mimetype": "text/x-python",
   "name": "python",
   "nbconvert_exporter": "python",
   "pygments_lexer": "ipython3",
   "version": "3.8.20"
  }
 },
 "nbformat": 4,
 "nbformat_minor": 5
}
