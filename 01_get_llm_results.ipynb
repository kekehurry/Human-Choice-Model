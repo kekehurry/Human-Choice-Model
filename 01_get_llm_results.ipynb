{
 "cells": [
  {
   "cell_type": "code",
   "execution_count": null,
   "metadata": {},
   "outputs": [],
   "source": [
    "from tqdm import tqdm\n",
    "import pandas as pd\n",
    "import numpy as np\n",
    "import random   \n",
    "\n",
    "np.random.seed(42)\n",
    "random.seed(42)\n",
    "\n",
    "desire = 'Eat'\n",
    "test_data_path = f'data/test/{desire}.csv'\n",
    "test_df = pd.read_csv(test_data_path, index_col=False)\n",
    "test_df.head(2)"
   ]
  },
  {
   "cell_type": "markdown",
   "metadata": {},
   "source": [
    "# Witout Context\n"
   ]
  },
  {
   "cell_type": "code",
   "execution_count": null,
   "metadata": {},
   "outputs": [],
   "source": [
    "from model import ChoiceModel\n",
    "choice_model = ChoiceModel(\n",
    "    data_dir='data', desire=desire, sample_num=0, skip_init=True)\n",
    "\n",
    "for idx, row in tqdm(test_df.iterrows(), total=len(test_df)):\n",
    "    try:\n",
    "        profile = row[['person_id', 'age', 'individual_income',\n",
    "                       'household_size', 'family_structure', 'vehicles', 'cypher']]\n",
    "        profile = profile.to_dict()\n",
    "        amenity_final_choice, mode_final_choice = choice_model.infer_without_context(\n",
    "            profile=profile, mode='experiment')\n",
    "    except Exception as e:\n",
    "        print(e)\n",
    "choice_model.save_logs()"
   ]
  },
  {
   "cell_type": "markdown",
   "metadata": {},
   "source": [
    "# With Context\n"
   ]
  },
  {
   "cell_type": "code",
   "execution_count": null,
   "metadata": {},
   "outputs": [],
   "source": [
    "from model import ChoiceModel\n",
    "num_sample = 1000\n",
    "choice_model = ChoiceModel(\n",
    "    data_dir='data', desire=desire, sample_num=num_sample, skip_init=True)\n",
    "\n",
    "for idx, row in tqdm(test_df.iterrows(), total=len(test_df)):\n",
    "    try:\n",
    "        profile = row[['person_id', 'age', 'individual_income',\n",
    "                        'household_size', 'family_structure', 'vehicles', 'cypher']]\n",
    "        profile = profile.to_dict()\n",
    "        amenity_final_choice, mode_final_choice = choice_model.infer(\n",
    "            profile=profile, mode='experiment')\n",
    "    except Exception as e:\n",
    "        print(e)\n",
    "        pass\n",
    "choice_model.save_logs()"
   ]
  },
  {
   "cell_type": "markdown",
   "metadata": {},
   "source": [
    "# With Context & Additionla Condition"
   ]
  },
  {
   "cell_type": "code",
   "execution_count": null,
   "metadata": {},
   "outputs": [],
   "source": [
    "from model import ChoiceModel\n",
    "\n",
    "num_sample = 1000\n",
    "additional_condition='The weather is sunny now'\n",
    "\n",
    "choice_model = ChoiceModel(\n",
    "    data_dir='data', desire=desire, sample_num=num_sample, skip_init=False)\n",
    "\n",
    "for idx, row in tqdm(test_df.iterrows(), total=len(test_df)):\n",
    "    try:\n",
    "        profile = row[['person_id', 'age', 'individual_income',\n",
    "                        'household_size', 'family_structure', 'vehicles', 'cypher']]\n",
    "        profile = profile.to_dict()\n",
    "        amenity_final_choice, mode_final_choice = choice_model.infer(\n",
    "            profile=profile, mode='experiment', additional_condition=additional_condition)\n",
    "    except Exception as e:\n",
    "        pass\n",
    "log_path = f'data/logs/{num_sample}/Sunny.csv'\n",
    "choice_model.save_logs(log_data_path=log_path)"
   ]
  },
  {
   "cell_type": "code",
   "execution_count": null,
   "metadata": {},
   "outputs": [],
   "source": [
    "from model import ChoiceModel\n",
    "\n",
    "num_sample = 1000\n",
    "additional_condition='The weather is rainy now'\n",
    "\n",
    "\n",
    "choice_model = ChoiceModel(\n",
    "    data_dir='data', desire=desire, sample_num=num_sample, skip_init=True)\n",
    "\n",
    "for idx, row in tqdm(test_df.iterrows(), total=len(test_df)):\n",
    "    try:\n",
    "        profile = row[['person_id', 'age', 'individual_income',\n",
    "                        'household_size', 'family_structure', 'vehicles', 'cypher']]\n",
    "        profile = profile.to_dict()\n",
    "        amenity_final_choice, mode_final_choice = choice_model.infer(\n",
    "            profile=profile, mode='experiment', additional_condition=additional_condition)\n",
    "    except Exception as e:\n",
    "        pass\n",
    "log_path = f'data/logs/{num_sample}/Rainy.csv'\n",
    "choice_model.save_logs(log_data_path=log_path)"
   ]
  },
  {
   "cell_type": "code",
   "execution_count": null,
   "metadata": {},
   "outputs": [],
   "source": []
  }
 ],
 "metadata": {
  "kernelspec": {
   "display_name": "pytorch",
   "language": "python",
   "name": "python3"
  },
  "language_info": {
   "codemirror_mode": {
    "name": "ipython",
    "version": 3
   },
   "file_extension": ".py",
   "mimetype": "text/x-python",
   "name": "python",
   "nbconvert_exporter": "python",
   "pygments_lexer": "ipython3",
   "version": "3.8.18"
  }
 },
 "nbformat": 4,
 "nbformat_minor": 4
}
