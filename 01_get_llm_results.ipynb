{
 "cells": [
  {
   "cell_type": "code",
   "execution_count": 1,
   "metadata": {},
   "outputs": [
    {
     "data": {
      "text/html": [
       "<div>\n",
       "<style scoped>\n",
       "    .dataframe tbody tr th:only-of-type {\n",
       "        vertical-align: middle;\n",
       "    }\n",
       "\n",
       "    .dataframe tbody tr th {\n",
       "        vertical-align: top;\n",
       "    }\n",
       "\n",
       "    .dataframe thead th {\n",
       "        text-align: right;\n",
       "    }\n",
       "</style>\n",
       "<table border=\"1\" class=\"dataframe\">\n",
       "  <thead>\n",
       "    <tr style=\"text-align: right;\">\n",
       "      <th></th>\n",
       "      <th>person_id</th>\n",
       "      <th>travel_purpose</th>\n",
       "      <th>target_amenity</th>\n",
       "      <th>mode</th>\n",
       "      <th>distance_miles</th>\n",
       "      <th>duration_minutes</th>\n",
       "      <th>age</th>\n",
       "      <th>individual_income</th>\n",
       "      <th>household_size</th>\n",
       "      <th>family_structure</th>\n",
       "      <th>vehicles</th>\n",
       "      <th>cypher</th>\n",
       "    </tr>\n",
       "  </thead>\n",
       "  <tbody>\n",
       "    <tr>\n",
       "      <th>0</th>\n",
       "      <td>5.570035e+18</td>\n",
       "      <td>Eat</td>\n",
       "      <td>F&amp;B Eatery/Drinking Places</td>\n",
       "      <td>Walking</td>\n",
       "      <td>0.0</td>\n",
       "      <td>0.0</td>\n",
       "      <td>29</td>\n",
       "      <td>53672</td>\n",
       "      <td>3_person</td>\n",
       "      <td>family_single</td>\n",
       "      <td>1</td>\n",
       "      <td>\\n        MATCH (p:Person)\\n        WHERE (p.a...</td>\n",
       "    </tr>\n",
       "    <tr>\n",
       "      <th>1</th>\n",
       "      <td>7.600486e+18</td>\n",
       "      <td>Eat</td>\n",
       "      <td>F&amp;B Eatery/Snack and Nonalcoholic Beverage Bars</td>\n",
       "      <td>Walking</td>\n",
       "      <td>0.0</td>\n",
       "      <td>0.0</td>\n",
       "      <td>26</td>\n",
       "      <td>0</td>\n",
       "      <td>3_person</td>\n",
       "      <td>nonfamily_single</td>\n",
       "      <td>0</td>\n",
       "      <td>\\n        MATCH (p:Person)\\n        WHERE (p.a...</td>\n",
       "    </tr>\n",
       "  </tbody>\n",
       "</table>\n",
       "</div>"
      ],
      "text/plain": [
       "      person_id travel_purpose  \\\n",
       "0  5.570035e+18            Eat   \n",
       "1  7.600486e+18            Eat   \n",
       "\n",
       "                                    target_amenity     mode  distance_miles  \\\n",
       "0                       F&B Eatery/Drinking Places  Walking             0.0   \n",
       "1  F&B Eatery/Snack and Nonalcoholic Beverage Bars  Walking             0.0   \n",
       "\n",
       "   duration_minutes  age  individual_income household_size  family_structure  \\\n",
       "0               0.0   29              53672       3_person     family_single   \n",
       "1               0.0   26                  0       3_person  nonfamily_single   \n",
       "\n",
       "  vehicles                                             cypher  \n",
       "0        1  \\n        MATCH (p:Person)\\n        WHERE (p.a...  \n",
       "1        0  \\n        MATCH (p:Person)\\n        WHERE (p.a...  "
      ]
     },
     "execution_count": 1,
     "metadata": {},
     "output_type": "execute_result"
    }
   ],
   "source": [
    "from tqdm import tqdm\n",
    "import pandas as pd\n",
    "import numpy as np\n",
    "import random   \n",
    "\n",
    "np.random.seed(42)\n",
    "random.seed(42)\n",
    "\n",
    "desire = 'Eat'\n",
    "test_data_path = f'data/test/{desire}.csv'\n",
    "test_df = pd.read_csv(test_data_path, index_col=False)\n",
    "test_df.head(2)"
   ]
  },
  {
   "cell_type": "markdown",
   "metadata": {},
   "source": [
    "# Witout Context\n"
   ]
  },
  {
   "cell_type": "code",
   "execution_count": 2,
   "metadata": {},
   "outputs": [
    {
     "name": "stderr",
     "output_type": "stream",
     "text": [
      "100%|██████████| 1000/1000 [2:36:09<00:00,  9.37s/it] \n"
     ]
    }
   ],
   "source": [
    "from model import ChoiceModel\n",
    "choice_model = ChoiceModel(\n",
    "    data_dir='data', desire=desire, sample_num=0, skip_init=True)\n",
    "\n",
    "for idx, row in tqdm(test_df.iterrows(), total=len(test_df)):\n",
    "    try:\n",
    "        profile = row[['person_id', 'age', 'individual_income',\n",
    "                       'household_size', 'family_structure', 'vehicles', 'cypher']]\n",
    "        profile = profile.to_dict()\n",
    "        amenity_final_choice, mode_final_choice = choice_model.infer_without_context(\n",
    "            profile=profile, mode='experiment')\n",
    "    except Exception as e:\n",
    "        print(e)\n",
    "choice_model.save_logs()"
   ]
  },
  {
   "cell_type": "markdown",
   "metadata": {},
   "source": [
    "# With Context\n"
   ]
  },
  {
   "cell_type": "code",
   "execution_count": 4,
   "metadata": {},
   "outputs": [
    {
     "name": "stderr",
     "output_type": "stream",
     "text": [
      "preparing train data...: 100%|██████████| 500/500 [00:01<00:00, 485.21it/s]\n",
      "preparing test data...: 100%|██████████| 1000/1000 [00:00<00:00, 24159.35it/s]\n",
      "adding person nodes...: 100%|██████████| 499/499 [00:00<00:00, 1052.31it/s]\n",
      "adding desire nodes...: 100%|██████████| 499/499 [00:00<00:00, 1284.05it/s]\n",
      "adding itention nodes...: 100%|██████████| 500/500 [00:00<00:00, 1149.89it/s]\n",
      "adding wan_to edges...: 100%|██████████| 499/499 [00:00<00:00, 866.58it/s]\n",
      "adding go_to edges...: 100%|██████████| 500/500 [00:00<00:00, 825.92it/s]\n"
     ]
    },
    {
     "name": "stdout",
     "output_type": "stream",
     "text": [
      "creating neo4j index...\n",
      "done!\n"
     ]
    },
    {
     "name": "stderr",
     "output_type": "stream",
     "text": [
      "100%|██████████| 1000/1000 [3:03:40<00:00, 11.02s/it] \n"
     ]
    }
   ],
   "source": [
    "from model import ChoiceModel\n",
    "num_sample = 500\n",
    "choice_model = ChoiceModel(\n",
    "    data_dir='data', desire=desire, sample_num=num_sample, skip_init=False)\n",
    "\n",
    "for idx, row in tqdm(test_df.iterrows(), total=len(test_df)):\n",
    "    try:\n",
    "        profile = row[['person_id', 'age', 'individual_income',\n",
    "                        'household_size', 'family_structure', 'vehicles', 'cypher']]\n",
    "        profile = profile.to_dict()\n",
    "        amenity_final_choice, mode_final_choice = choice_model.infer(\n",
    "            profile=profile, mode='experiment')\n",
    "    except Exception as e:\n",
    "        pass\n",
    "choice_model.save_logs()"
   ]
  },
  {
   "cell_type": "code",
   "execution_count": null,
   "metadata": {},
   "outputs": [],
   "source": []
  }
 ],
 "metadata": {
  "kernelspec": {
   "display_name": "pytorch",
   "language": "python",
   "name": "python3"
  },
  "language_info": {
   "codemirror_mode": {
    "name": "ipython",
    "version": 3
   },
   "file_extension": ".py",
   "mimetype": "text/x-python",
   "name": "python",
   "nbconvert_exporter": "python",
   "pygments_lexer": "ipython3",
   "version": "3.8.18"
  }
 },
 "nbformat": 4,
 "nbformat_minor": 4
}
