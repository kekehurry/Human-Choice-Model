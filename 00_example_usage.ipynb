{
 "cells": [
  {
   "cell_type": "markdown",
   "metadata": {},
   "source": [
    "# With Graph RAG\n"
   ]
  },
  {
   "cell_type": "code",
   "execution_count": 3,
   "metadata": {},
   "outputs": [
    {
     "name": "stderr",
     "output_type": "stream",
     "text": [
      "preparing train data...: 100%|██████████| 1000/1000 [00:02<00:00, 456.29it/s]\n",
      "preparing test data...: 100%|██████████| 1000/1000 [00:00<00:00, 23692.22it/s]\n",
      "adding person nodes...: 100%|██████████| 997/997 [00:00<00:00, 1259.48it/s]\n",
      "adding desire nodes...: 100%|██████████| 997/997 [00:00<00:00, 1391.21it/s]\n",
      "adding itention nodes...: 100%|██████████| 1000/1000 [00:00<00:00, 1327.59it/s]\n",
      "adding wan_to edges...: 100%|██████████| 997/997 [00:01<00:00, 888.41it/s]\n",
      "adding go_to edges...: 100%|██████████| 1000/1000 [00:01<00:00, 685.37it/s]\n"
     ]
    },
    {
     "name": "stdout",
     "output_type": "stream",
     "text": [
      "creating neo4j index...\n",
      "done!\n"
     ]
    }
   ],
   "source": [
    "from model import ChoiceModel\n",
    "\n",
    "# desire can be one of 'Eat,Shop,Recreation'\n",
    "desire = 'Shop'\n",
    "\n",
    "# You can input any profile of a person, but there will be a failure chance that the model can't generate the proper cypher query, try to use the following categories will be better.\n",
    "\n",
    "# 'income' 'Debt','Low','Moderate','High','Very High','Ultra High'\n",
    "# 'age' :  'Teen' ,'Young Adult', 'Adult', 'Middle Age', 'Senior', 'Elderly'\n",
    "\n",
    "profile = 'a young adult with high income'\n",
    "\n",
    "# Initialize the model, for the first time, you need to set skip_init to 'False'. it will take a while to prepare the data.\n",
    "# sample_num is the total number of samples to build the dataset.\n",
    "\n",
    "choice_model = ChoiceModel(\n",
    "    data_dir='data', desire=desire, sample_num=1000, skip_init=False)\n",
    "\n",
    "amenity_final_choice, mode_final_choice = choice_model.infer(\n",
    "    profile=profile,\n",
    "    city='Boston',\n",
    "    mode='infer')"
   ]
  },
  {
   "cell_type": "code",
   "execution_count": 5,
   "metadata": {},
   "outputs": [
    {
     "data": {
      "text/plain": [
       "('Consumer Goods', 'Walking')"
      ]
     },
     "execution_count": 5,
     "metadata": {},
     "output_type": "execute_result"
    }
   ],
   "source": [
    "amenity_final_choice, mode_final_choice"
   ]
  },
  {
   "cell_type": "markdown",
   "metadata": {},
   "source": [
    "# Without GraphRAG\n"
   ]
  },
  {
   "cell_type": "code",
   "execution_count": 5,
   "metadata": {},
   "outputs": [],
   "source": [
    "from model import ChoiceModel\n",
    "\n",
    "# desire can be one of 'Eat,Shop,Recreation'\n",
    "desire = 'Eat'\n",
    "profile = 'a young adult with high income'\n",
    "\n",
    "choice_model = ChoiceModel(\n",
    "    data_dir='data', desire=desire, sample_num=0, skip_init=True)\n",
    "\n",
    "amenity_final_choice, mode_final_choice = choice_model.infer_without_context(\n",
    "    profile=profile,\n",
    "    city='Boston',\n",
    "    mode='infer'\n",
    ")"
   ]
  },
  {
   "cell_type": "code",
   "execution_count": 6,
   "metadata": {},
   "outputs": [
    {
     "data": {
      "text/plain": [
       "('F&B Eatery/Drinking Places', 'Car')"
      ]
     },
     "execution_count": 6,
     "metadata": {},
     "output_type": "execute_result"
    }
   ],
   "source": [
    "amenity_final_choice, mode_final_choice"
   ]
  }
 ],
 "metadata": {
  "kernelspec": {
   "display_name": "pytorch",
   "language": "python",
   "name": "python3"
  },
  "language_info": {
   "codemirror_mode": {
    "name": "ipython",
    "version": 3
   },
   "file_extension": ".py",
   "mimetype": "text/x-python",
   "name": "python",
   "nbconvert_exporter": "python",
   "pygments_lexer": "ipython3",
   "version": "3.8.18"
  }
 },
 "nbformat": 4,
 "nbformat_minor": 2
}
