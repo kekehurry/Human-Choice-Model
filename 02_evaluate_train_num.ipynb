{
 "cells": [
  {
   "cell_type": "code",
   "execution_count": 1,
   "metadata": {},
   "outputs": [],
   "source": [
    "from model import ChoiceModel\n",
    "\n",
    "def evaluate_gl(desire, choice_type, num_sample=1000, seed=42):\n",
    "    print(f'Graph RAG+LLM: disire-{desire} choice_type-{choice_type}')\n",
    "    choice_model = ChoiceModel(\n",
    "        data_dir='data', desire=desire, choice_type=choice_type,\n",
    "        sample_num=num_sample, skip_init=False, seed=seed)\n",
    "\n",
    "    error, kl_divergence = choice_model.evaluate(figsize=(20, 3), plot=False)\n",
    "\n",
    "    _,_,age_error_table = choice_model._get_error_table(x_label='age_group')\n",
    "    _,_,income_error_table = choice_model._get_error_table(x_label='income_group')\n",
    "\n",
    "    print('MAPE:', round(error['mean'],2))\n",
    "    print('KL Divergence:', round(kl_divergence['mean'],2))\n",
    "    print('=='*20)\n",
    "    return age_error_table, income_error_table, error, kl_divergence"
   ]
  },
  {
   "cell_type": "code",
   "execution_count": 2,
   "metadata": {},
   "outputs": [
    {
     "name": "stdout",
     "output_type": "stream",
     "text": [
      "Graph RAG+LLM: disire-Eat choice_type-mode\n"
     ]
    },
    {
     "name": "stderr",
     "output_type": "stream",
     "text": [
      "preparing train data...: 100%|██████████| 900/900 [00:02<00:00, 425.73it/s]\n",
      "preparing test data...: 100%|██████████| 1000/1000 [00:00<00:00, 23404.93it/s]\n",
      "adding person nodes...: 100%|██████████| 897/897 [00:01<00:00, 622.21it/s]\n",
      "adding desire nodes...: 100%|██████████| 897/897 [00:01<00:00, 657.70it/s]\n",
      "adding itention nodes...: 100%|██████████| 900/900 [00:01<00:00, 686.27it/s]\n",
      "adding wan_to edges...: 100%|██████████| 897/897 [00:01<00:00, 497.20it/s]\n",
      "adding go_to edges...: 100%|██████████| 900/900 [00:02<00:00, 445.37it/s]\n"
     ]
    },
    {
     "name": "stdout",
     "output_type": "stream",
     "text": [
      "creating neo4j index...\n",
      "done!\n"
     ]
    },
    {
     "ename": "ValueError",
     "evalue": "need at least one array to concatenate",
     "output_type": "error",
     "traceback": [
      "\u001b[0;31m---------------------------------------------------------------------------\u001b[0m",
      "\u001b[0;31mValueError\u001b[0m                                Traceback (most recent call last)",
      "Cell \u001b[0;32mIn[2], line 5\u001b[0m\n\u001b[1;32m      2\u001b[0m choice_type \u001b[38;5;241m=\u001b[39m \u001b[38;5;124m'\u001b[39m\u001b[38;5;124mmode\u001b[39m\u001b[38;5;124m'\u001b[39m\n\u001b[1;32m      3\u001b[0m num_sample \u001b[38;5;241m=\u001b[39m \u001b[38;5;241m900\u001b[39m\n\u001b[0;32m----> 5\u001b[0m \u001b[43mevaluate_gl\u001b[49m\u001b[43m(\u001b[49m\u001b[43mdesire\u001b[49m\u001b[43m,\u001b[49m\u001b[43m \u001b[49m\u001b[43mchoice_type\u001b[49m\u001b[43m,\u001b[49m\u001b[43m \u001b[49m\u001b[43mnum_sample\u001b[49m\u001b[43m,\u001b[49m\u001b[43m \u001b[49m\u001b[43mseed\u001b[49m\u001b[38;5;241;43m=\u001b[39;49m\u001b[38;5;241;43m42\u001b[39;49m\u001b[43m)\u001b[49m\n\u001b[1;32m      6\u001b[0m \u001b[38;5;66;03m# for i in range(1,10):\u001b[39;00m\n\u001b[1;32m      7\u001b[0m \u001b[38;5;66;03m#     num_sample = i*100\u001b[39;00m\n\u001b[1;32m      8\u001b[0m \u001b[38;5;66;03m#     print(num_sample)\u001b[39;00m\n\u001b[1;32m      9\u001b[0m \u001b[38;5;66;03m#     evaluate_gl(desire, choice_type, num_sample=num_sample, seed=42)\u001b[39;00m\n",
      "Cell \u001b[0;32mIn[1], line 9\u001b[0m, in \u001b[0;36mevaluate_gl\u001b[0;34m(desire, choice_type, num_sample, seed)\u001b[0m\n\u001b[1;32m      4\u001b[0m \u001b[38;5;28mprint\u001b[39m(\u001b[38;5;124mf\u001b[39m\u001b[38;5;124m'\u001b[39m\u001b[38;5;124mGraph RAG+LLM: disire-\u001b[39m\u001b[38;5;132;01m{\u001b[39;00mdesire\u001b[38;5;132;01m}\u001b[39;00m\u001b[38;5;124m choice_type-\u001b[39m\u001b[38;5;132;01m{\u001b[39;00mchoice_type\u001b[38;5;132;01m}\u001b[39;00m\u001b[38;5;124m'\u001b[39m)\n\u001b[1;32m      5\u001b[0m choice_model \u001b[38;5;241m=\u001b[39m ChoiceModel(\n\u001b[1;32m      6\u001b[0m     data_dir\u001b[38;5;241m=\u001b[39m\u001b[38;5;124m'\u001b[39m\u001b[38;5;124mdata\u001b[39m\u001b[38;5;124m'\u001b[39m, desire\u001b[38;5;241m=\u001b[39mdesire, choice_type\u001b[38;5;241m=\u001b[39mchoice_type,\n\u001b[1;32m      7\u001b[0m     sample_num\u001b[38;5;241m=\u001b[39mnum_sample, skip_init\u001b[38;5;241m=\u001b[39m\u001b[38;5;28;01mFalse\u001b[39;00m, seed\u001b[38;5;241m=\u001b[39mseed)\n\u001b[0;32m----> 9\u001b[0m error, kl_divergence \u001b[38;5;241m=\u001b[39m \u001b[43mchoice_model\u001b[49m\u001b[38;5;241;43m.\u001b[39;49m\u001b[43mevaluate\u001b[49m\u001b[43m(\u001b[49m\u001b[43mfigsize\u001b[49m\u001b[38;5;241;43m=\u001b[39;49m\u001b[43m(\u001b[49m\u001b[38;5;241;43m20\u001b[39;49m\u001b[43m,\u001b[49m\u001b[43m \u001b[49m\u001b[38;5;241;43m3\u001b[39;49m\u001b[43m)\u001b[49m\u001b[43m,\u001b[49m\u001b[43m \u001b[49m\u001b[43mplot\u001b[49m\u001b[38;5;241;43m=\u001b[39;49m\u001b[38;5;28;43;01mFalse\u001b[39;49;00m\u001b[43m)\u001b[49m\n\u001b[1;32m     11\u001b[0m _,_,age_error_table \u001b[38;5;241m=\u001b[39m choice_model\u001b[38;5;241m.\u001b[39m_get_error_table(x_label\u001b[38;5;241m=\u001b[39m\u001b[38;5;124m'\u001b[39m\u001b[38;5;124mage_group\u001b[39m\u001b[38;5;124m'\u001b[39m)\n\u001b[1;32m     12\u001b[0m _,_,income_error_table \u001b[38;5;241m=\u001b[39m choice_model\u001b[38;5;241m.\u001b[39m_get_error_table(x_label\u001b[38;5;241m=\u001b[39m\u001b[38;5;124m'\u001b[39m\u001b[38;5;124mincome_group\u001b[39m\u001b[38;5;124m'\u001b[39m)\n",
      "File \u001b[0;32m~/Documents/Project/CS_repo/CS_Human_Choice_Model/model/main.py:196\u001b[0m, in \u001b[0;36mChoiceModel.evaluate\u001b[0;34m(self, figsize, plot)\u001b[0m\n\u001b[1;32m    194\u001b[0m test_path \u001b[38;5;241m=\u001b[39m \u001b[38;5;28mself\u001b[39m\u001b[38;5;241m.\u001b[39mtest_data_path\n\u001b[1;32m    195\u001b[0m choice_type \u001b[38;5;241m=\u001b[39m \u001b[38;5;28mself\u001b[39m\u001b[38;5;241m.\u001b[39mchoice_type\n\u001b[0;32m--> 196\u001b[0m data \u001b[38;5;241m=\u001b[39m \u001b[38;5;28;43mself\u001b[39;49m\u001b[38;5;241;43m.\u001b[39;49m\u001b[43m_read_log_data\u001b[49m\u001b[43m(\u001b[49m\u001b[43mlog_path\u001b[49m\u001b[43m,\u001b[49m\u001b[43m \u001b[49m\u001b[43mtest_path\u001b[49m\u001b[43m)\u001b[49m\n\u001b[1;32m    197\u001b[0m error, kl_divergence \u001b[38;5;241m=\u001b[39m \u001b[38;5;28mself\u001b[39m\u001b[38;5;241m.\u001b[39m_evaluate_with_cv(\n\u001b[1;32m    198\u001b[0m     data, choice_type, figsize\u001b[38;5;241m=\u001b[39mfigsize, plot\u001b[38;5;241m=\u001b[39mplot)\n\u001b[1;32m    199\u001b[0m \u001b[38;5;28;01mreturn\u001b[39;00m error, kl_divergence\n",
      "File \u001b[0;32m~/Documents/Project/CS_repo/CS_Human_Choice_Model/model/main.py:102\u001b[0m, in \u001b[0;36mChoiceModel._read_log_data\u001b[0;34m(self, log_path, test_path)\u001b[0m\n\u001b[1;32m    100\u001b[0m \u001b[38;5;28;01mdef\u001b[39;00m \u001b[38;5;21m_read_log_data\u001b[39m(\u001b[38;5;28mself\u001b[39m, log_path, test_path):\n\u001b[1;32m    101\u001b[0m     desire \u001b[38;5;241m=\u001b[39m \u001b[38;5;28mself\u001b[39m\u001b[38;5;241m.\u001b[39mdesire\n\u001b[0;32m--> 102\u001b[0m     \u001b[38;5;28;01mreturn\u001b[39;00m \u001b[43mread_log_data\u001b[49m\u001b[43m(\u001b[49m\u001b[43mlog_path\u001b[49m\u001b[43m,\u001b[49m\u001b[43m \u001b[49m\u001b[43mtest_path\u001b[49m\u001b[43m,\u001b[49m\u001b[43m \u001b[49m\u001b[43mdesire\u001b[49m\u001b[43m)\u001b[49m\n",
      "File \u001b[0;32m~/Documents/Project/CS_repo/CS_Human_Choice_Model/model/utils/evaluation.py:214\u001b[0m, in \u001b[0;36mread_log_data\u001b[0;34m(log_path, test_path, desire, test_num)\u001b[0m\n\u001b[1;32m    211\u001b[0m amenity_probs \u001b[38;5;241m=\u001b[39m np\u001b[38;5;241m.\u001b[39mvstack(merged_data[\u001b[38;5;124m'\u001b[39m\u001b[38;5;124mamenity_probs\u001b[39m\u001b[38;5;124m'\u001b[39m])\n\u001b[1;32m    212\u001b[0m merged_data \u001b[38;5;241m=\u001b[39m merged_data[amenity_probs\u001b[38;5;241m.\u001b[39msum(axis\u001b[38;5;241m=\u001b[39m\u001b[38;5;241m1\u001b[39m) \u001b[38;5;241m==\u001b[39m \u001b[38;5;241m1\u001b[39m]\n\u001b[0;32m--> 214\u001b[0m mode_probs \u001b[38;5;241m=\u001b[39m \u001b[43mnp\u001b[49m\u001b[38;5;241;43m.\u001b[39;49m\u001b[43mvstack\u001b[49m\u001b[43m(\u001b[49m\u001b[43mmerged_data\u001b[49m\u001b[43m[\u001b[49m\u001b[38;5;124;43m'\u001b[39;49m\u001b[38;5;124;43mmode_probs\u001b[39;49m\u001b[38;5;124;43m'\u001b[39;49m\u001b[43m]\u001b[49m\u001b[43m)\u001b[49m\n\u001b[1;32m    215\u001b[0m merged_data \u001b[38;5;241m=\u001b[39m merged_data[mode_probs\u001b[38;5;241m.\u001b[39msum(axis\u001b[38;5;241m=\u001b[39m\u001b[38;5;241m1\u001b[39m) \u001b[38;5;241m==\u001b[39m \u001b[38;5;241m1\u001b[39m]\n\u001b[1;32m    217\u001b[0m merged_data \u001b[38;5;241m=\u001b[39m merged_data\u001b[38;5;241m.\u001b[39mdropna()\n",
      "File \u001b[0;32m<__array_function__ internals>:200\u001b[0m, in \u001b[0;36mvstack\u001b[0;34m(*args, **kwargs)\u001b[0m\n",
      "File \u001b[0;32m~/anaconda3/envs/cs_choice/lib/python3.8/site-packages/numpy/core/shape_base.py:296\u001b[0m, in \u001b[0;36mvstack\u001b[0;34m(tup, dtype, casting)\u001b[0m\n\u001b[1;32m    294\u001b[0m \u001b[38;5;28;01mif\u001b[39;00m \u001b[38;5;129;01mnot\u001b[39;00m \u001b[38;5;28misinstance\u001b[39m(arrs, \u001b[38;5;28mlist\u001b[39m):\n\u001b[1;32m    295\u001b[0m     arrs \u001b[38;5;241m=\u001b[39m [arrs]\n\u001b[0;32m--> 296\u001b[0m \u001b[38;5;28;01mreturn\u001b[39;00m \u001b[43m_nx\u001b[49m\u001b[38;5;241;43m.\u001b[39;49m\u001b[43mconcatenate\u001b[49m\u001b[43m(\u001b[49m\u001b[43marrs\u001b[49m\u001b[43m,\u001b[49m\u001b[43m \u001b[49m\u001b[38;5;241;43m0\u001b[39;49m\u001b[43m,\u001b[49m\u001b[43m \u001b[49m\u001b[43mdtype\u001b[49m\u001b[38;5;241;43m=\u001b[39;49m\u001b[43mdtype\u001b[49m\u001b[43m,\u001b[49m\u001b[43m \u001b[49m\u001b[43mcasting\u001b[49m\u001b[38;5;241;43m=\u001b[39;49m\u001b[43mcasting\u001b[49m\u001b[43m)\u001b[49m\n",
      "File \u001b[0;32m<__array_function__ internals>:200\u001b[0m, in \u001b[0;36mconcatenate\u001b[0;34m(*args, **kwargs)\u001b[0m\n",
      "\u001b[0;31mValueError\u001b[0m: need at least one array to concatenate"
     ]
    }
   ],
   "source": [
    "desire = 'Eat'\n",
    "choice_type = 'mode'\n",
    "num_sample = 900\n",
    "\n",
    "evaluate_gl(desire, choice_type, num_sample, seed=42)\n",
    "# for i in range(1,10):\n",
    "#     num_sample = i*100\n",
    "#     print(num_sample)\n",
    "#     evaluate_gl(desire, choice_type, num_sample=num_sample, seed=42)"
   ]
  },
  {
   "cell_type": "code",
   "execution_count": null,
   "metadata": {},
   "outputs": [],
   "source": []
  }
 ],
 "metadata": {
  "kernelspec": {
   "display_name": "cs_choice",
   "language": "python",
   "name": "python3"
  },
  "language_info": {
   "codemirror_mode": {
    "name": "ipython",
    "version": 3
   },
   "file_extension": ".py",
   "mimetype": "text/x-python",
   "name": "python",
   "nbconvert_exporter": "python",
   "pygments_lexer": "ipython3",
   "version": "3.8.20"
  }
 },
 "nbformat": 4,
 "nbformat_minor": 2
}
