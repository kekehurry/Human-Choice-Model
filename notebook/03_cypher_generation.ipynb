{
 "cells": [
  {
   "cell_type": "markdown",
   "metadata": {},
   "source": [
    "# Cypher Generation\n",
    "\n",
    "generate cypher to retrieve data in same age group/income group"
   ]
  },
  {
   "cell_type": "code",
   "execution_count": 2,
   "metadata": {},
   "outputs": [],
   "source": [
    "from langchain_community.graphs import Neo4jGraph\n",
    "from langchain_community.embeddings import OllamaEmbeddings\n",
    "from langchain_core.output_parsers import StrOutputParser\n",
    "from langchain_core.runnables import RunnablePassthrough\n",
    "from langchain_core.prompts import ChatPromptTemplate\n",
    "from langchain_community.chat_models import ChatOllama\n",
    "import re"
   ]
  },
  {
   "cell_type": "code",
   "execution_count": 3,
   "metadata": {},
   "outputs": [],
   "source": [
    "person_schema = \"\"\"\n",
    "**Person**\n",
    "- 'income': INTEGER Min: -1616, Max: 927313 description: Individual annual income of the person in USD.\n",
    "- 'age': INTEGER Min: 17, Max: 94 description: Age of the person.\n",
    "\"\"\"\n",
    "\n",
    "# - 'vehicles': STRING Available options: ['1', '0', '2', '3_plus'] description: Number of vehicles available to the person.\n",
    "# - 'family_structure': STRING Available options: ['family_single', 'married_couple', 'nonfamily_single', 'living_alone'] description: Family structure of the person.\n",
    "# - 'household_size': STRING Available options: ['4_person', '5_person', '3_person', '2_person', '1_person', '7_plus_person', '1_person_group_quarters', '6_person'] description: Number of people in the household this person belongs to.\n",
    "\n",
    "\n",
    "cypher_template = \"\"\"Based on the Neo4j graph schema below, complete the Cypher query to find the {number} nodes similar to the profile:\n",
    "{schema}\n",
    "Profile: {profile}\n",
    "\n",
    "Groups:\n",
    "- 'income' : \n",
    "  - 'Debt' : <0\n",
    "  - 'Low' : ≥0 AND <30000\n",
    "  - 'Moderate' : ≥30000 AND <60000\n",
    "  - 'High' : ≥60000 AND <90000\n",
    "  - 'Very High' : ≥90000 AND <120000\n",
    "  - 'Ultra High' : ≥120000\n",
    "\n",
    "- 'age' : \n",
    "  - 'Teen' : <18\n",
    "  - 'Young Adult' : ≥18 AND <30\n",
    "  - 'Adult' : ≥30 AND <40\n",
    "  - 'Middle Age' : ≥40 AND <50\n",
    "  - 'Senior' : ≥50 AND <60\n",
    "  - 'Elderly' : ≥60\n",
    "\n",
    "**IMPORTANT:**\n",
    "- **DO NOT** include other information except age and income.\n",
    "- **DO NOT** include queries for filters not mentioned in the profile. For example, if the profile is \"a young man\" and there is no information about income, **DO NOT** generate a query for income.\n",
    "- Map the relevant age or income information into these groups. For example, \"a young man\" should translate to `p.age ≥18 AND p.age<30` for age.\n",
    "- Keep other parts of the query as is, and answer with the whole query.\n",
    "- Wrap the final answer in triple backticks (```cypher ```) to indicate a code block.\n",
    "\n",
    "Answer: \n",
    "age group: e.g. 'High'\n",
    "income group: e.g. 'Moderate'\n",
    "```cypher\n",
    "MATCH (p:Person)\n",
    "WHERE [[your response query here]]\n",
    "WITH p ORDER BY rand() LIMIT {number}\n",
    "MATCH (p)-[r1:WANT_TO]-(d:Desire {{desire:'{desire}'}})-[r2:GO_TO]-(i:Intention)\n",
    "RETURN COLLECT(DISTINCT p) AS person, \n",
    "    COLLECT(DISTINCT d) AS desire, \n",
    "    COLLECT(DISTINCT i) AS intention,\n",
    "    COLLECT(DISTINCT r1) AS want_to,\n",
    "    COLLECT(DISTINCT r2) AS go_to\n",
    "```\n",
    "\"\"\"\n"
   ]
  },
  {
   "cell_type": "code",
   "execution_count": 4,
   "metadata": {},
   "outputs": [],
   "source": [
    "class CypherOutputParser(StrOutputParser):\n",
    "    def parse(self, text: str) -> str:\n",
    "        code_pattern = re.compile(r'```(?:cypher)?(.*?)```', re.DOTALL)\n",
    "        match = code_pattern.search(text)\n",
    "        if match:\n",
    "            return match.group(1).strip()\n",
    "        return \"No cypher found\""
   ]
  },
  {
   "cell_type": "code",
   "execution_count": 5,
   "metadata": {},
   "outputs": [],
   "source": [
    "cypher_model = ChatOllama(model='llama3.1',temperature=0)\n",
    "cypher_prompt = ChatPromptTemplate.from_messages(\n",
    "    [\n",
    "        (\n",
    "            \"system\",\n",
    "            \"Given an input query, convert it to a Cypher query. No pre-amble.\",\n",
    "        ),\n",
    "        (\"human\", cypher_template),\n",
    "    ]\n",
    ")\n",
    "cypher_response = (\n",
    "    RunnablePassthrough.assign(\n",
    "        schema=lambda _: person_schema,\n",
    "    )\n",
    "    | cypher_prompt\n",
    "    | cypher_model.bind()\n",
    "    # | CypherOutputParser()\n",
    "    | StrOutputParser()\n",
    ")"
   ]
  },
  {
   "cell_type": "code",
   "execution_count": 7,
   "metadata": {},
   "outputs": [
    {
     "name": "stdout",
     "output_type": "stream",
     "text": [
      "Based on the profile \"A Middle Age person, whose income is Very High\", we can map this information into the following groups:\n",
      "\n",
      "- Age group: 'Middle Age'\n",
      "- Income group: 'Very High'\n",
      "\n",
      "Here's the completed Cypher query:\n",
      "```cypher\n",
      "MATCH (p:Person)\n",
      "WHERE p.age >= 40 AND p.age < 50 AND p.income >= 90000 AND p.income < 120000\n",
      "WITH p ORDER BY rand() LIMIT 50\n",
      "MATCH (p)-[r1:WANT_TO]-(d:Desire {desire:'Eat'})-[r2:GO_TO]-(i:Intention)\n",
      "RETURN COLLECT(DISTINCT p) AS person, \n",
      "    COLLECT(DISTINCT d) AS desire, \n",
      "    COLLECT(DISTINCT i) AS intention,\n",
      "    COLLECT(DISTINCT r1) AS want_to,\n",
      "    COLLECT(DISTINCT r2) AS go_to\n",
      "```\n"
     ]
    }
   ],
   "source": [
    "profile = 'A Middle Age person, whose income is Very High'\n",
    "top_k = 50\n",
    "desire = 'Eat'\n",
    "\n",
    "cypher = cypher_response.invoke({\n",
    "    \"profile\": profile,\n",
    "    \"number\": top_k,\n",
    "    \"desire\": desire\n",
    "})\n",
    "print(cypher)"
   ]
  },
  {
   "cell_type": "code",
   "execution_count": 6,
   "metadata": {},
   "outputs": [
    {
     "name": "stderr",
     "output_type": "stream",
     "text": [
      "Received notification from DBMS server: {severity: WARNING} {code: Neo.ClientNotification.Statement.FeatureDeprecationWarning} {category: DEPRECATION} {title: This feature is deprecated and will be removed in future versions.} {description: The procedure has a deprecated field. ('config' used by 'apoc.meta.graphSample' is deprecated.)} {position: line: 1, column: 1, offset: 0} for query: \"CALL apoc.meta.graphSample() YIELD nodes, relationships RETURN nodes, [rel in relationships | {name:apoc.any.property(rel, 'type'), count: apoc.any.property(rel, 'count')}] AS relationships\"\n"
     ]
    }
   ],
   "source": [
    "url=\"bolt://localhost:7687\"\n",
    "username=\"neo4j\"\n",
    "password=\"neo4jgraph\"\n",
    "embedding_model = OllamaEmbeddings(model=\"nomic-embed-text\")\n",
    "\n",
    "graph = Neo4jGraph (\n",
    "    url=url,\n",
    "    username=username,\n",
    "    password=password,\n",
    "    enhanced_schema=True,\n",
    ")"
   ]
  },
  {
   "cell_type": "code",
   "execution_count": 7,
   "metadata": {},
   "outputs": [
    {
     "name": "stdout",
     "output_type": "stream",
     "text": [
      "8\n"
     ]
    }
   ],
   "source": [
    "results = graph.query(cypher)\n",
    "print(len(results[0]['person']))"
   ]
  },
  {
   "cell_type": "code",
   "execution_count": null,
   "metadata": {},
   "outputs": [],
   "source": []
  }
 ],
 "metadata": {
  "kernelspec": {
   "display_name": "base",
   "language": "python",
   "name": "python3"
  },
  "language_info": {
   "codemirror_mode": {
    "name": "ipython",
    "version": 3
   },
   "file_extension": ".py",
   "mimetype": "text/x-python",
   "name": "python",
   "nbconvert_exporter": "python",
   "pygments_lexer": "ipython3",
   "version": "3.10.13"
  }
 },
 "nbformat": 4,
 "nbformat_minor": 2
}
