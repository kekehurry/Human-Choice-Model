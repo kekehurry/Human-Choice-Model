{
 "cells": [
  {
   "cell_type": "code",
   "execution_count": 1,
   "metadata": {},
   "outputs": [
    {
     "data": {
      "text/html": [
       "<div>\n",
       "<style scoped>\n",
       "    .dataframe tbody tr th:only-of-type {\n",
       "        vertical-align: middle;\n",
       "    }\n",
       "\n",
       "    .dataframe tbody tr th {\n",
       "        vertical-align: top;\n",
       "    }\n",
       "\n",
       "    .dataframe thead th {\n",
       "        text-align: right;\n",
       "    }\n",
       "</style>\n",
       "<table border=\"1\" class=\"dataframe\">\n",
       "  <thead>\n",
       "    <tr style=\"text-align: right;\">\n",
       "      <th></th>\n",
       "      <th>person_id</th>\n",
       "      <th>travel_purpose</th>\n",
       "      <th>target_amenity</th>\n",
       "      <th>mode</th>\n",
       "      <th>distance_miles</th>\n",
       "      <th>duration_minutes</th>\n",
       "      <th>age</th>\n",
       "      <th>individual_income</th>\n",
       "      <th>household_size</th>\n",
       "      <th>family_structure</th>\n",
       "      <th>vehicles</th>\n",
       "      <th>cypher</th>\n",
       "    </tr>\n",
       "  </thead>\n",
       "  <tbody>\n",
       "    <tr>\n",
       "      <th>0</th>\n",
       "      <td>5.570035e+18</td>\n",
       "      <td>Eat</td>\n",
       "      <td>F&amp;B Eatery/Drinking Places</td>\n",
       "      <td>Walking</td>\n",
       "      <td>0.0</td>\n",
       "      <td>0.0</td>\n",
       "      <td>29</td>\n",
       "      <td>53672</td>\n",
       "      <td>3_person</td>\n",
       "      <td>family_single</td>\n",
       "      <td>1</td>\n",
       "      <td>\\n        MATCH (p:Person)\\n        WHERE (p.a...</td>\n",
       "    </tr>\n",
       "    <tr>\n",
       "      <th>1</th>\n",
       "      <td>7.600486e+18</td>\n",
       "      <td>Eat</td>\n",
       "      <td>F&amp;B Eatery/Snack and Nonalcoholic Beverage Bars</td>\n",
       "      <td>Walking</td>\n",
       "      <td>0.0</td>\n",
       "      <td>0.0</td>\n",
       "      <td>26</td>\n",
       "      <td>0</td>\n",
       "      <td>3_person</td>\n",
       "      <td>nonfamily_single</td>\n",
       "      <td>0</td>\n",
       "      <td>\\n        MATCH (p:Person)\\n        WHERE (p.a...</td>\n",
       "    </tr>\n",
       "  </tbody>\n",
       "</table>\n",
       "</div>"
      ],
      "text/plain": [
       "      person_id travel_purpose  \\\n",
       "0  5.570035e+18            Eat   \n",
       "1  7.600486e+18            Eat   \n",
       "\n",
       "                                    target_amenity     mode  distance_miles  \\\n",
       "0                       F&B Eatery/Drinking Places  Walking             0.0   \n",
       "1  F&B Eatery/Snack and Nonalcoholic Beverage Bars  Walking             0.0   \n",
       "\n",
       "   duration_minutes  age  individual_income household_size  family_structure  \\\n",
       "0               0.0   29              53672       3_person     family_single   \n",
       "1               0.0   26                  0       3_person  nonfamily_single   \n",
       "\n",
       "  vehicles                                             cypher  \n",
       "0        1  \\n        MATCH (p:Person)\\n        WHERE (p.a...  \n",
       "1        0  \\n        MATCH (p:Person)\\n        WHERE (p.a...  "
      ]
     },
     "execution_count": 1,
     "metadata": {},
     "output_type": "execute_result"
    }
   ],
   "source": [
    "from tqdm import tqdm\n",
    "\n",
    "import pandas as pd\n",
    "import os\n",
    "import sys\n",
    "sys.path.append(os.path.dirname(os.path.abspath('.')))\n",
    "\n",
    "desire = 'Eat'\n",
    "test_data_path = f'../data/test/{desire}.csv'\n",
    "test_df = pd.read_csv(test_data_path, index_col=False)\n",
    "test_df.head(2)"
   ]
  },
  {
   "cell_type": "markdown",
   "metadata": {},
   "source": [
    "# Witout Context\n"
   ]
  },
  {
   "cell_type": "code",
   "execution_count": null,
   "metadata": {},
   "outputs": [],
   "source": [
    "from model import ChoiceModel\n",
    "choice_model = ChoiceModel(\n",
    "    data_dir='../data', desire=desire, sample_num=0, skip_init=True)\n",
    "\n",
    "for idx, row in tqdm(test_df.iterrows(), total=len(test_df)):\n",
    "    try:\n",
    "        profile = row[['person_id', 'age', 'individual_income',\n",
    "                       'household_size', 'family_structure', 'vehicles', 'cypher']]\n",
    "        profile = profile.to_dict()\n",
    "        amenity_final_choice, mode_final_choice = choice_model.infer_without_context(\n",
    "            profile=profile, mode='experiment')\n",
    "    except Exception as e:\n",
    "        print(e)\n",
    "choice_model.save_logs()"
   ]
  },
  {
   "cell_type": "markdown",
   "metadata": {},
   "source": [
    "# With Context\n"
   ]
  },
  {
   "cell_type": "code",
   "execution_count": 2,
   "metadata": {},
   "outputs": [
    {
     "name": "stderr",
     "output_type": "stream",
     "text": [
      "preparing train data...: 100%|██████████| 1000/1000 [00:02<00:00, 465.78it/s]\n",
      "preparing test data...:  99%|█████████▉| 991/1000 [00:00<00:00, 24132.49it/s]\n",
      "adding person nodes...: 100%|██████████| 997/997 [00:00<00:00, 1252.38it/s]\n",
      "adding desire nodes...: 100%|██████████| 997/997 [00:00<00:00, 1385.26it/s]\n",
      "adding itention nodes...: 100%|██████████| 1000/1000 [00:00<00:00, 1296.14it/s]\n",
      "adding wan_to edges...: 100%|██████████| 997/997 [00:01<00:00, 796.04it/s]\n",
      "adding go_to edges...: 100%|██████████| 1000/1000 [00:01<00:00, 636.61it/s]\n"
     ]
    },
    {
     "name": "stdout",
     "output_type": "stream",
     "text": [
      "creating neo4j index...\n",
      "done!\n"
     ]
    },
    {
     "name": "stderr",
     "output_type": "stream",
     "text": [
      "100%|██████████| 1000/1000 [3:35:22<00:00, 12.92s/it] \n"
     ]
    }
   ],
   "source": [
    "from model import ChoiceModel\n",
    "num_sample = 1000\n",
    "choice_model = ChoiceModel(\n",
    "    data_dir='../data', desire=desire, sample_num=num_sample, skip_init=False)\n",
    "\n",
    "for idx, row in tqdm(test_df.iterrows(), total=len(test_df)):\n",
    "    try:\n",
    "        profile = row[['person_id', 'age', 'individual_income',\n",
    "                        'household_size', 'family_structure', 'vehicles', 'cypher']]\n",
    "        profile = profile.to_dict()\n",
    "        amenity_final_choice, mode_final_choice = choice_model.infer(\n",
    "            profile=profile, mode='experiment')\n",
    "    except Exception as e:\n",
    "        pass\n",
    "choice_model.save_logs()"
   ]
  },
  {
   "cell_type": "code",
   "execution_count": 2,
   "metadata": {},
   "outputs": [
    {
     "name": "stderr",
     "output_type": "stream",
     "text": [
      "Received notification from DBMS server: {severity: WARNING} {code: Neo.ClientNotification.Statement.FeatureDeprecationWarning} {category: DEPRECATION} {title: This feature is deprecated and will be removed in future versions.} {description: The procedure has a deprecated field. ('config' used by 'apoc.meta.graphSample' is deprecated.)} {position: line: 1, column: 1, offset: 0} for query: \"CALL apoc.meta.graphSample() YIELD nodes, relationships RETURN nodes, [rel in relationships | {name:apoc.any.property(rel, 'type'), count: apoc.any.property(rel, 'count')}] AS relationships\"\n",
      "preparing train data...: 100%|██████████| 400/400 [00:00<00:00, 473.00it/s]\n",
      "preparing test data...: 100%|██████████| 1000/1000 [00:00<00:00, 7979.54it/s]\n",
      "adding person nodes...: 100%|██████████| 399/399 [00:00<00:00, 511.59it/s]\n",
      "adding desire nodes...: 100%|██████████| 399/399 [00:00<00:00, 512.17it/s]\n",
      "adding itention nodes...: 100%|██████████| 400/400 [00:00<00:00, 521.44it/s]\n",
      "adding wan_to edges...: 100%|██████████| 399/399 [00:00<00:00, 447.87it/s]\n",
      "adding go_to edges...: 100%|██████████| 400/400 [00:00<00:00, 430.73it/s]\n"
     ]
    },
    {
     "name": "stdout",
     "output_type": "stream",
     "text": [
      "creating neo4j index...\n",
      "done!\n"
     ]
    },
    {
     "name": "stderr",
     "output_type": "stream",
     "text": [
      "100%|██████████| 1000/1000 [3:38:12<00:00, 13.09s/it] \n",
      "preparing train data...: 100%|██████████| 500/500 [00:01<00:00, 454.66it/s]\n",
      "preparing test data...: 100%|██████████| 1000/1000 [00:00<00:00, 7737.34it/s]\n",
      "adding person nodes...: 100%|██████████| 499/499 [00:01<00:00, 497.35it/s]\n",
      "adding desire nodes...: 100%|██████████| 499/499 [00:00<00:00, 537.69it/s]\n",
      "adding itention nodes...: 100%|██████████| 500/500 [00:00<00:00, 511.83it/s]\n",
      "adding wan_to edges...: 100%|██████████| 499/499 [00:01<00:00, 444.31it/s]\n",
      "adding go_to edges...: 100%|██████████| 500/500 [00:01<00:00, 426.24it/s]\n"
     ]
    },
    {
     "name": "stdout",
     "output_type": "stream",
     "text": [
      "creating neo4j index...\n",
      "done!\n"
     ]
    },
    {
     "name": "stderr",
     "output_type": "stream",
     "text": [
      "100%|██████████| 1000/1000 [3:37:50<00:00, 13.07s/it] \n",
      "preparing train data...: 100%|██████████| 600/600 [00:01<00:00, 476.28it/s]\n",
      "preparing test data...: 100%|██████████| 1000/1000 [00:00<00:00, 7930.94it/s]\n",
      "adding person nodes...: 100%|██████████| 598/598 [00:01<00:00, 497.09it/s]\n",
      "adding desire nodes...: 100%|██████████| 598/598 [00:01<00:00, 552.97it/s]\n",
      "adding itention nodes...: 100%|██████████| 600/600 [00:01<00:00, 497.97it/s]\n",
      "adding wan_to edges...: 100%|██████████| 598/598 [00:01<00:00, 420.14it/s]\n",
      "adding go_to edges...: 100%|██████████| 600/600 [00:01<00:00, 405.51it/s]\n"
     ]
    },
    {
     "name": "stdout",
     "output_type": "stream",
     "text": [
      "creating neo4j index...\n",
      "done!\n"
     ]
    },
    {
     "name": "stderr",
     "output_type": "stream",
     "text": [
      "100%|██████████| 1000/1000 [3:37:59<00:00, 13.08s/it] \n",
      "preparing train data...: 100%|██████████| 700/700 [00:01<00:00, 454.01it/s]\n",
      "preparing test data...: 100%|██████████| 1000/1000 [00:00<00:00, 7772.99it/s]\n",
      "adding person nodes...: 100%|██████████| 698/698 [00:01<00:00, 491.06it/s]\n",
      "adding desire nodes...: 100%|██████████| 698/698 [00:01<00:00, 524.90it/s]\n",
      "adding itention nodes...: 100%|██████████| 700/700 [00:01<00:00, 492.91it/s]\n",
      "adding wan_to edges...: 100%|██████████| 698/698 [00:01<00:00, 449.51it/s]\n",
      "adding go_to edges...: 100%|██████████| 700/700 [00:01<00:00, 454.77it/s]\n"
     ]
    },
    {
     "name": "stdout",
     "output_type": "stream",
     "text": [
      "creating neo4j index...\n",
      "done!\n"
     ]
    },
    {
     "name": "stderr",
     "output_type": "stream",
     "text": [
      "100%|██████████| 1000/1000 [3:37:39<00:00, 13.06s/it] \n",
      "preparing train data...: 100%|██████████| 800/800 [00:01<00:00, 436.47it/s]\n",
      "preparing test data...: 100%|██████████| 1000/1000 [00:00<00:00, 7875.93it/s]\n",
      "adding person nodes...: 100%|██████████| 797/797 [00:01<00:00, 506.63it/s]\n",
      "adding desire nodes...: 100%|██████████| 797/797 [00:01<00:00, 530.25it/s]\n",
      "adding itention nodes...: 100%|██████████| 800/800 [00:01<00:00, 511.32it/s]\n",
      "adding wan_to edges...: 100%|██████████| 797/797 [00:01<00:00, 433.11it/s]\n",
      "adding go_to edges...: 100%|██████████| 800/800 [00:01<00:00, 443.78it/s]\n"
     ]
    },
    {
     "name": "stdout",
     "output_type": "stream",
     "text": [
      "creating neo4j index...\n",
      "done!\n"
     ]
    },
    {
     "name": "stderr",
     "output_type": "stream",
     "text": [
      "100%|██████████| 1000/1000 [3:38:35<00:00, 13.12s/it] \n",
      "preparing train data...: 100%|██████████| 900/900 [00:01<00:00, 473.41it/s]\n",
      "preparing test data...: 100%|██████████| 1000/1000 [00:00<00:00, 7926.40it/s]\n",
      "adding person nodes...: 100%|██████████| 897/897 [00:01<00:00, 530.44it/s]\n",
      "adding desire nodes...: 100%|██████████| 897/897 [00:01<00:00, 552.84it/s]\n",
      "adding itention nodes...: 100%|██████████| 900/900 [00:01<00:00, 543.94it/s]\n",
      "adding wan_to edges...: 100%|██████████| 897/897 [00:02<00:00, 431.28it/s]\n",
      "adding go_to edges...: 100%|██████████| 900/900 [00:02<00:00, 426.77it/s]\n"
     ]
    },
    {
     "name": "stdout",
     "output_type": "stream",
     "text": [
      "creating neo4j index...\n",
      "done!\n"
     ]
    },
    {
     "name": "stderr",
     "output_type": "stream",
     "text": [
      "100%|██████████| 1000/1000 [3:46:23<00:00, 13.58s/it]  \n",
      "preparing train data...: 100%|██████████| 1000/1000 [00:02<00:00, 472.37it/s]\n",
      "preparing test data...: 100%|██████████| 1000/1000 [00:00<00:00, 7857.59it/s]\n",
      "adding person nodes...: 100%|██████████| 997/997 [00:01<00:00, 550.16it/s]\n",
      "adding desire nodes...: 100%|██████████| 997/997 [00:01<00:00, 565.83it/s]\n",
      "adding itention nodes...: 100%|██████████| 1000/1000 [00:01<00:00, 578.26it/s]\n",
      "adding wan_to edges...: 100%|██████████| 997/997 [00:02<00:00, 424.06it/s]\n",
      "adding go_to edges...: 100%|██████████| 1000/1000 [00:02<00:00, 426.09it/s]\n"
     ]
    },
    {
     "name": "stdout",
     "output_type": "stream",
     "text": [
      "creating neo4j index...\n",
      "done!\n"
     ]
    },
    {
     "name": "stderr",
     "output_type": "stream",
     "text": [
      "100%|██████████| 1000/1000 [3:38:48<00:00, 13.13s/it] \n"
     ]
    }
   ],
   "source": [
    "# from model import ChoiceModel\n",
    "\n",
    "# for i in range(4, 11):\n",
    "#     num_sample = i*100\n",
    "#     choice_model = ChoiceModel(\n",
    "#         data_dir='../data', desire=desire, sample_num=num_sample, skip_init=False)\n",
    "\n",
    "#     for idx, row in tqdm(test_df.iterrows(), total=len(test_df)):\n",
    "#         try:\n",
    "#             profile = row[['person_id', 'age', 'individual_income',\n",
    "#                            'household_size', 'family_structure', 'vehicles', 'cypher']]\n",
    "#             profile = profile.to_dict()\n",
    "#             amenity_final_choice, mode_final_choice = choice_model.infer(\n",
    "#                 profile=profile, mode='experiment')\n",
    "#         except Exception as e:\n",
    "#             pass\n",
    "#     choice_model.save_logs()"
   ]
  }
 ],
 "metadata": {
  "kernelspec": {
   "display_name": "pytorch",
   "language": "python",
   "name": "python3"
  },
  "language_info": {
   "codemirror_mode": {
    "name": "ipython",
    "version": 3
   },
   "file_extension": ".py",
   "mimetype": "text/x-python",
   "name": "python",
   "nbconvert_exporter": "python",
   "pygments_lexer": "ipython3",
   "version": "3.8.18"
  }
 },
 "nbformat": 4,
 "nbformat_minor": 4
}
