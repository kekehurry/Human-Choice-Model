{
 "cells": [
  {
   "cell_type": "code",
   "execution_count": null,
   "metadata": {},
   "outputs": [],
   "source": [
    "'''\n",
    "create a neo4j docker container with the following command:\n",
    "\n",
    "```\n",
    "docker run \\\n",
    "    -it \\\n",
    "    --restart always \\\n",
    "    --publish=7474:7474 --publish=7687:7687 \\\n",
    "    --env NEO4J_AUTH=neo4j/neo4jgraph \\\n",
    "    --volume=$HOME/Documents/neo4j/data:/data \\\n",
    "    --volume=$HOME/Documents/neo4j/logs:/logs \\\n",
    "    --volume=$HOME/Documents/neo4j/conf:/conf \\\n",
    "    --env NEO4J_dbms_memory_pagecache_size=4G \\\n",
    "    --env NEO4J_PLUGINS='[\"apoc\", \"graph-data-science\"]' \\\n",
    "    --name neo4j \\\n",
    "    neo4j:5.20.0\n",
    "\n",
    "```\n",
    "\n",
    "sudo chmod 777 $HOME/Documents/neo4j/data\n",
    "sudo chmod 777 $HOME/Documents/neo4j/logs\n",
    "sudo chmod 777 $HOME/Documents/neo4j/conf\n",
    "'''"
   ]
  },
  {
   "cell_type": "code",
   "execution_count": 1,
   "metadata": {},
   "outputs": [],
   "source": [
    "from langchain_community.graphs import Neo4jGraph\n",
    "from langchain.vectorstores.neo4j_vector import Neo4jVector\n",
    "from langchain_community.embeddings import OllamaEmbeddings\n",
    "embedding_model = OllamaEmbeddings(model=\"nomic-embed-text\")\n"
   ]
  },
  {
   "cell_type": "code",
   "execution_count": 2,
   "metadata": {},
   "outputs": [
    {
     "name": "stderr",
     "output_type": "stream",
     "text": [
      "Received notification from DBMS server: {severity: WARNING} {code: Neo.ClientNotification.Statement.FeatureDeprecationWarning} {category: DEPRECATION} {title: This feature is deprecated and will be removed in future versions.} {description: The procedure has a deprecated field. ('config' used by 'apoc.meta.graphSample' is deprecated.)} {position: line: 1, column: 1, offset: 0} for query: \"CALL apoc.meta.graphSample() YIELD nodes, relationships RETURN nodes, [rel in relationships | {name:apoc.any.property(rel, 'type'), count: apoc.any.property(rel, 'count')}] AS relationships\"\n"
     ]
    }
   ],
   "source": [
    "url=\"bolt://localhost:7687\"\n",
    "username=\"neo4j\"\n",
    "password=\"neo4jgraph\"\n",
    "\n",
    "graph = Neo4jGraph (\n",
    "    url=url,\n",
    "    username=username,\n",
    "    password=password,\n",
    "    enhanced_schema=True,\n",
    ")"
   ]
  },
  {
   "cell_type": "markdown",
   "metadata": {},
   "source": [
    "# Create Dataset"
   ]
  },
  {
   "cell_type": "code",
   "execution_count": 3,
   "metadata": {},
   "outputs": [],
   "source": [
    "from neo4j import GraphDatabase\n",
    "\n",
    "#Connect to Neo4j\n",
    "uri = \"bolt://localhost:7687\"\n",
    "username = \"neo4j\"\n",
    "password = \"neo4jgraph\"\n",
    "driver = GraphDatabase.driver(uri, auth=(username, password))"
   ]
  },
  {
   "cell_type": "code",
   "execution_count": 4,
   "metadata": {},
   "outputs": [],
   "source": [
    "# clear the exsiting data\n",
    "\n",
    "def clear_database(tx):\n",
    "    # Delete all relationships\n",
    "    tx.run(\"MATCH (()-[r]->() ) DELETE r\")\n",
    "    # Delete all nodes\n",
    "    tx.run(\"MATCH (n) DELETE n\")\n",
    "\n",
    "with driver.session() as session:\n",
    "    session.execute_write(clear_database)"
   ]
  },
  {
   "cell_type": "code",
   "execution_count": 5,
   "metadata": {},
   "outputs": [],
   "source": [
    "import pandas as pd\n",
    "import numpy as np\n",
    "\n",
    "person_df = pd.read_csv('data/train/1K/person.csv')\n",
    "desire_df = pd.read_csv('data/train/1K/desire.csv')\n",
    "itention_df = pd.read_csv('data/train/1K/intention.csv')\n",
    "go_to_edge_df = pd.read_csv('data/train/1K/go_to_edge.csv')\n",
    "want_to_edge_df = pd.read_csv('data/train/1K/want_to_edge.csv')"
   ]
  },
  {
   "cell_type": "code",
   "execution_count": 6,
   "metadata": {},
   "outputs": [],
   "source": [
    "def create_person(tx,id,age,income,household_size,family_structure,vehicles,name,description):\n",
    "    tx.run(\"CREATE (a:Person {id: $id, age: $age, income: $income, household_size: $household_size, family_structure: $family_structure, vehicles: $vehicles, name: $name, description: $description})\",\n",
    "           id=id, age=age, income=income, household_size=household_size, family_structure=family_structure, vehicles=vehicles,name=name,description=description)\n",
    "\n",
    "def create_desire(tx,id,desire,description):\n",
    "    tx.run(\"CREATE (a:Desire {id: $id, desire: $desire, description: $description})\",\n",
    "           id=id, desire=desire, description=description)\n",
    "\n",
    "def create_intention(tx,id,target_amenity,mode,distance_miles,duration_minutes,location_name,description):\n",
    "    tx.run(\"CREATE (a:Intention {id: $id, target_amenity: $target_amenity, mode: $mode, distance_miles: $distance_miles, duration_minutes: $duration_minutes, location_name: $location_name, description: $description})\",\n",
    "              id=id, target_amenity=target_amenity, mode=mode, distance_miles=distance_miles, duration_minutes=duration_minutes, location_name=location_name,description=description)\n",
    "    \n",
    "def create_want_to_edge(tx,person_id,desire_id):\n",
    "    tx.run(\"MATCH (a:Person),(b:Desire) WHERE a.id = $person_id AND b.id = $desire_id CREATE (a)-[r:WANT_TO]->(b)\",\n",
    "           person_id=person_id, desire_id=desire_id)\n",
    "\n",
    "def create_go_to_edge(tx,desire_id,intention_id):\n",
    "    tx.run(\"MATCH (a:Desire),(b:Intention) WHERE a.id = $desire_id AND b.id = $intention_id CREATE (a)-[r:GO_TO]->(b)\",\n",
    "           desire_id=desire_id, intention_id=intention_id)"
   ]
  },
  {
   "cell_type": "code",
   "execution_count": 7,
   "metadata": {},
   "outputs": [],
   "source": [
    "with driver.session() as session:\n",
    "\n",
    "    for i, row in person_df.iterrows():\n",
    "        session.execute_write(create_person, row['id'], row['age'], row['individual_income'], row['household_size'], row['family_structure'], row['vehicles'], 'Person', row['description'])\n",
    "\n",
    "    for i, row in desire_df.iterrows():\n",
    "        session.execute_write(create_desire, row['id'], row['desire'], row['description'])\n",
    "    \n",
    "    for i, row in itention_df.iterrows():\n",
    "        session.execute_write(create_intention, row['id'], row['target_amenity'], row['mode'], row['distance_miles'], row['duration_minutes'], row['location_name'], row['description'])\n",
    "    \n",
    "    for i, row in want_to_edge_df.iterrows():\n",
    "        session.execute_write(create_want_to_edge, row['source'], row['target'])\n",
    "    \n",
    "    for i, row in go_to_edge_df.iterrows():\n",
    "        session.execute_write(create_go_to_edge, row['source'], row['target'])"
   ]
  },
  {
   "cell_type": "markdown",
   "metadata": {},
   "source": [
    "# Create Index"
   ]
  },
  {
   "cell_type": "code",
   "execution_count": 3,
   "metadata": {},
   "outputs": [],
   "source": [
    "# graph.query(\n",
    "# \"DROP INDEX person;\"\n",
    "# )\n",
    "# graph.query(\n",
    "# '''\n",
    "# MATCH (p:Person)\n",
    "# REMOVE p.embedding\n",
    "# '''\n",
    "# )"
   ]
  },
  {
   "cell_type": "code",
   "execution_count": 8,
   "metadata": {},
   "outputs": [],
   "source": [
    "retrieval_query = \"\"\"\n",
    "RETURN node.description AS text, score, node {.age,.individual_income,.household_size,.family_structure,.vehicles} AS metadata\n",
    "\"\"\"\n",
    "\n",
    "person_index = Neo4jVector.from_existing_graph(\n",
    "    embedding_model,\n",
    "    url=url,\n",
    "    username=username,\n",
    "    password=password,\n",
    "    index_name='person',\n",
    "    node_label=\"Person\",\n",
    "    text_node_properties=['description'],\n",
    "    embedding_node_property='embedding',\n",
    "    retrieval_query=retrieval_query,\n",
    ")"
   ]
  },
  {
   "cell_type": "markdown",
   "metadata": {},
   "source": [
    "# Load Old index"
   ]
  },
  {
   "cell_type": "code",
   "execution_count": 9,
   "metadata": {},
   "outputs": [],
   "source": [
    "retrieval_query = \"\"\"\n",
    "RETURN node {.description} AS text, score, node {.age,.individual_income,.household_size,.family_structure,.vehicles} AS metadata\n",
    "\"\"\"\n",
    "\n",
    "person_index = Neo4jVector.from_existing_index(\n",
    "    embedding=embedding_model,\n",
    "    url=url,\n",
    "    username=username,\n",
    "    password=password,\n",
    "    index_name='person',\n",
    "    retrieval_query=retrieval_query,\n",
    ")"
   ]
  },
  {
   "cell_type": "code",
   "execution_count": 10,
   "metadata": {},
   "outputs": [
    {
     "name": "stderr",
     "output_type": "stream",
     "text": [
      "Received notification from DBMS server: {severity: WARNING} {code: Neo.ClientNotification.Statement.UnknownPropertyKeyWarning} {category: UNRECOGNIZED} {title: The provided property key is not in the database} {description: One of the property names in your query is not available in the database, make sure you didn't misspell it or that the label is available when you run this statement in your application (the missing property name is: individual_income)} {position: line: 2, column: 56, offset: 130} for query: 'CALL db.index.vector.queryNodes($index, $k, $embedding) YIELD node, score \\nRETURN node {.description} AS text, score, node {.age,.individual_income,.household_size,.family_structure,.vehicles} AS metadata\\n'\n"
     ]
    },
    {
     "name": "stdout",
     "output_type": "stream",
     "text": [
      "description: A 20 year old person, living in a nonfamily_single family with 3_person members. The person has 0 vehicles and an annual income of 0 dollars.\n",
      "\n",
      "Score:0.9059115648269653\n",
      "--------------------\n",
      "description: A 20 year old person, living in a nonfamily_single family with 3_person members. The person has 0 vehicles and an annual income of 0 dollars.\n",
      "\n",
      "Score:0.9059115648269653\n",
      "--------------------\n",
      "description: A 20 year old person, living in a nonfamily_single family with 3_person members. The person has 0 vehicles and an annual income of 0 dollars.\n",
      "\n",
      "Score:0.9059115648269653\n",
      "--------------------\n",
      "description: A 20 year old person, living in a nonfamily_single family with 3_person members. The person has 0 vehicles and an annual income of 7426 dollars.\n",
      "\n",
      "Score:0.9058500528335571\n",
      "--------------------\n",
      "description: A 20 year old person, living in a nonfamily_single family with 2_person members. The person has 0 vehicles and an annual income of 0 dollars.\n",
      "\n",
      "Score:0.9033349752426147\n",
      "--------------------\n"
     ]
    }
   ],
   "source": [
    "\n",
    "results = person_index.similarity_search_with_score(\n",
    "    query=\" A 20 year old person, living in a nonfamily_single family with 3_person members. The person has 2 vehicles and an annual income of 2020 dollars\",\n",
    "    k = 5\n",
    ")\n",
    "\n",
    "for r in results:\n",
    "    print(r[0].page_content,f\"Score:{r[1]}\",sep=\"\\n\")\n",
    "    print(\"-\"*20)"
   ]
  },
  {
   "cell_type": "code",
   "execution_count": null,
   "metadata": {},
   "outputs": [],
   "source": []
  }
 ],
 "metadata": {
  "kernelspec": {
   "display_name": "base",
   "language": "python",
   "name": "python3"
  },
  "language_info": {
   "codemirror_mode": {
    "name": "ipython",
    "version": 3
   },
   "file_extension": ".py",
   "mimetype": "text/x-python",
   "name": "python",
   "nbconvert_exporter": "python",
   "pygments_lexer": "ipython3",
   "version": "3.10.13"
  }
 },
 "nbformat": 4,
 "nbformat_minor": 2
}
